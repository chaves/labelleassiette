{
 "cells": [
  {
   "cell_type": "code",
   "execution_count": null,
   "metadata": {
    "collapsed": true
   },
   "outputs": [],
   "source": [
    "from lxml import html\n",
    "import lxml\n",
    "import time\n",
    "import requests\n",
    "import pandas as pd\n",
    "import sqlite3"
   ]
  },
  {
   "cell_type": "code",
   "execution_count": null,
   "metadata": {
    "collapsed": true
   },
   "outputs": [],
   "source": [
    "date_jour = '2017-12-31'\n",
    "OUTPUT_PATH = '../_outputs/'\n",
    "database_file = OUTPUT_PATH + 'chefs_{}.db'.format(date_jour)\n",
    "conn = sqlite3.connect(database_file)"
   ]
  },
  {
   "cell_type": "code",
   "execution_count": null,
   "metadata": {},
   "outputs": [],
   "source": [
    "df_source = pd.read_sql_query(\"select * from index_chefs;\", conn)\n",
    "df_source.head()"
   ]
  },
  {
   "cell_type": "code",
   "execution_count": null,
   "metadata": {
    "collapsed": true
   },
   "outputs": [],
   "source": [
    "def getChefPage(chef_id):\n",
    "    url = 'https://labelleassiette.fr/' + chef_id\n",
    "    print(\"Page : \" + url)\n",
    "    response = requests.get(url)\n",
    "    content_source = response.text\n",
    "    return [chef_id, html.document_fromstring(content_source)]"
   ]
  },
  {
   "cell_type": "code",
   "execution_count": null,
   "metadata": {},
   "outputs": [],
   "source": [
    "docs = []\n",
    "for index, row in df_source.iterrows():\n",
    "    docs.append(getChefPage(row['chef']))"
   ]
  },
  {
   "cell_type": "code",
   "execution_count": null,
   "metadata": {},
   "outputs": [],
   "source": [
    "len(docs)"
   ]
  },
  {
   "cell_type": "code",
   "execution_count": null,
   "metadata": {},
   "outputs": [],
   "source": [
    "docs[0][1]"
   ]
  },
  {
   "cell_type": "code",
   "execution_count": null,
   "metadata": {
    "collapsed": true
   },
   "outputs": [],
   "source": [
    "def get_rows(doc):\n",
    "    ratings = doc.xpath('//div[@class=\"feedback\"]//span[@itemprop=\"ratingValue\"]/@content')\n",
    "    authors = doc.xpath('//div[@class=\"feedback\"]//span[@itemprop=\"author\"]/@content')\n",
    "    authors_types = doc.xpath('//div[@class=\"feedback\"]//span[2]/text()')\n",
    "    dates = doc.xpath('//div[@class=\"feedback\"]//span[@itemprop=\"datePublished\"]/@content')\n",
    "    descriptions = doc.xpath('//div[@class=\"feedback\"]//p[@itemprop=\"description\"]')\n",
    "    \n",
    "    return ratings, authors, authors_types, dates, descriptions\n",
    "    # return len(ratings), len(authors), len(authors_types), len(dates), len(descriptions)"
   ]
  },
  {
   "cell_type": "code",
   "execution_count": null,
   "metadata": {
    "collapsed": true
   },
   "outputs": [],
   "source": [
    "# get_rows(docs[9][1])"
   ]
  },
  {
   "cell_type": "code",
   "execution_count": null,
   "metadata": {},
   "outputs": [],
   "source": [
    "docs[36][0]"
   ]
  },
  {
   "cell_type": "code",
   "execution_count": null,
   "metadata": {
    "collapsed": true
   },
   "outputs": [],
   "source": [
    "columns = ['chef', 'rating', 'author', 'author_type', 'dates', 'description']\n",
    "df_output = pd.DataFrame(columns=columns)"
   ]
  },
  {
   "cell_type": "code",
   "execution_count": null,
   "metadata": {
    "collapsed": true
   },
   "outputs": [],
   "source": [
    "idx = 0\n",
    "for doc in docs:\n",
    "    ratings, authors, authors_types, dates, descriptions = get_rows(doc[1])\n",
    "    chef = doc[0]\n",
    "    # print(chef)\n",
    "    idxm = 0\n",
    "    for r in ratings:\n",
    "        descriptions[idxm] = descriptions[idxm].text_content()\n",
    "        df_output.loc[idx] = [chef, r, authors[idxm], authors_types[idxm], dates[idxm], descriptions[idxm]]\n",
    "        idx +=1\n",
    "        idxm +=1"
   ]
  },
  {
   "cell_type": "code",
   "execution_count": null,
   "metadata": {},
   "outputs": [],
   "source": [
    "df_output.head(50)"
   ]
  },
  {
   "cell_type": "code",
   "execution_count": null,
   "metadata": {},
   "outputs": [],
   "source": [
    "df_output['description'][30]"
   ]
  },
  {
   "cell_type": "code",
   "execution_count": null,
   "metadata": {
    "collapsed": true
   },
   "outputs": [],
   "source": [
    "df_output.to_excel(OUTPUT_PATH + 'chefs_{}_avis.xlsx'.format(date_jour), index=False, header=True)"
   ]
  },
  {
   "cell_type": "code",
   "execution_count": null,
   "metadata": {
    "collapsed": true
   },
   "outputs": [],
   "source": []
  }
 ],
 "metadata": {
  "kernelspec": {
   "display_name": "Python 3",
   "language": "python",
   "name": "python3"
  },
  "language_info": {
   "codemirror_mode": {
    "name": "ipython",
    "version": 3
   },
   "file_extension": ".py",
   "mimetype": "text/x-python",
   "name": "python",
   "nbconvert_exporter": "python",
   "pygments_lexer": "ipython3",
   "version": "3.6.2"
  }
 },
 "nbformat": 4,
 "nbformat_minor": 2
}
