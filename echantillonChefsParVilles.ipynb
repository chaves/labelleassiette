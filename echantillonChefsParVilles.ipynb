{
 "cells": [
  {
   "cell_type": "code",
   "execution_count": null,
   "metadata": {},
   "outputs": [],
   "source": [
    "from lxml import html\n",
    "import lxml\n",
    "import time\n",
    "import requests\n",
    "import arrow\n",
    "date_jour = arrow.now().format('YYYY-MM-DD')\n",
    "date_jour"
   ]
  },
  {
   "cell_type": "code",
   "execution_count": null,
   "metadata": {},
   "outputs": [],
   "source": [
    "url = 'https://labelleassiette.fr/villes-et-services'\n",
    "response = requests.get(url)\n",
    "content_source = response.text.encode(\"utf-8\")\n",
    "xml_doc = html.document_fromstring(content_source)\n",
    "villes = xml_doc.xpath(\"//a[@class='cities-and-services-link']/@href\")\n",
    "villes[0:5]"
   ]
  },
  {
   "cell_type": "code",
   "execution_count": null,
   "metadata": {},
   "outputs": [],
   "source": [
    "def pageContainsSuite(ville, page):\n",
    "    url = 'https://labelleassiette.fr/chef-a-domicile/menus/' + ville\n",
    "    params = {'gamme': 'allMenus',\n",
    "             'searchType': 'private-chef',\n",
    "             'country': 'FR',\n",
    "             'experienceType': 'private-chef',\n",
    "             'page': page}\n",
    "    response = requests.get(url, params=params)\n",
    "    content_source = response.text.encode(\"utf-8\")\n",
    "    xml_doc = html.document_fromstring(content_source)\n",
    "    page_suite_existe = xml_doc.xpath(\"//@data-next-page-url\")\n",
    "    return page_suite_existe[0] != 'undefined'\n",
    "\n",
    "pageContainsSuite('Brest', 3)"
   ]
  },
  {
   "cell_type": "code",
   "execution_count": null,
   "metadata": {},
   "outputs": [],
   "source": [
    "def getChefsVillePage(ville, page):\n",
    "    url = 'https://labelleassiette.fr/chef-a-domicile/menus/' + ville\n",
    "    params = {'gamme': 'allMenus',\n",
    "             'searchType': 'private-chef',\n",
    "             'country': 'FR',\n",
    "             'experienceType': 'private-chef',\n",
    "             'page': page}\n",
    "    response = requests.get(url, params=params)\n",
    "    content_source = response.text.encode(\"utf-8\")\n",
    "    xml_doc = html.document_fromstring(content_source)\n",
    "    chefs = xml_doc.xpath(\"//@data-chef-slug\")\n",
    "    return chefs\n",
    "\n",
    "getChefsVillePage('Lille', 5)"
   ]
  },
  {
   "cell_type": "code",
   "execution_count": null,
   "metadata": {
    "collapsed": true
   },
   "outputs": [],
   "source": [
    "OUTPUT_PATH = '../_outputs/chefs_{}/'.format(date_jour)"
   ]
  },
  {
   "cell_type": "code",
   "execution_count": null,
   "metadata": {},
   "outputs": [],
   "source": [
    "for ville in villes:\n",
    "    chefs = []\n",
    "    page = 1\n",
    "    dernierePagePlusUn = False\n",
    "    dernierePage = False\n",
    "    ville = ville.split('/')[-1] # prend la ville sans le lien\n",
    "    while not dernierePagePlusUn:\n",
    "    # while testFin(page):\n",
    "        print('Ville en cours = {}'.format(ville))\n",
    "        print('Page en cours = {}'.format(page))\n",
    "        more = getChefsVillePage(ville, page)\n",
    "        chefs.extend(more) \n",
    "        page += 1\n",
    "        if dernierePage :\n",
    "            dernierePagePlusUn = True\n",
    "        if not pageContainsSuite(ville, page):\n",
    "            dernierePage = True\n",
    "        time.sleep(2)\n",
    "    with open(\"{}{}.txt\".format(OUTPUT_PATH, ville), \"w\") as file:\n",
    "        file.write(\"\\n\".join(chefs))"
   ]
  },
  {
   "cell_type": "code",
   "execution_count": null,
   "metadata": {
    "collapsed": true
   },
   "outputs": [],
   "source": []
  },
  {
   "cell_type": "code",
   "execution_count": null,
   "metadata": {
    "collapsed": true
   },
   "outputs": [],
   "source": []
  }
 ],
 "metadata": {
  "kernelspec": {
   "display_name": "Python 3",
   "language": "python",
   "name": "python3"
  },
  "language_info": {
   "codemirror_mode": {
    "name": "ipython",
    "version": 3
   },
   "file_extension": ".py",
   "mimetype": "text/x-python",
   "name": "python",
   "nbconvert_exporter": "python",
   "pygments_lexer": "ipython3",
   "version": "3.6.2"
  }
 },
 "nbformat": 4,
 "nbformat_minor": 2
}
