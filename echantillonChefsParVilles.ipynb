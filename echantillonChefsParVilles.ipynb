{
 "cells": [
  {
   "cell_type": "code",
   "execution_count": 1,
   "metadata": {},
   "outputs": [
    {
     "data": {
      "text/plain": [
       "'2017-12-31'"
      ]
     },
     "execution_count": 1,
     "metadata": {},
     "output_type": "execute_result"
    }
   ],
   "source": [
    "from lxml import html\n",
    "import lxml\n",
    "import time\n",
    "import requests\n",
    "import arrow\n",
    "date_jour = arrow.now().format('YYYY-MM-DD')\n",
    "date_jour"
   ]
  },
  {
   "cell_type": "code",
   "execution_count": 2,
   "metadata": {},
   "outputs": [
    {
     "data": {
      "text/plain": [
       "['/chef-a-domicile/lyon',\n",
       " '/chef-a-domicile/marseille',\n",
       " '/chef-a-domicile/paris',\n",
       " '/chef-a-domicile/strasbourg',\n",
       " '/chef-a-domicile/montpellier']"
      ]
     },
     "execution_count": 2,
     "metadata": {},
     "output_type": "execute_result"
    }
   ],
   "source": [
    "url = 'https://labelleassiette.fr/villes-et-services'\n",
    "response = requests.get(url)\n",
    "content_source = response.text.encode(\"utf-8\")\n",
    "xml_doc = html.document_fromstring(content_source)\n",
    "villes = xml_doc.xpath(\"//a[@class='cities-and-services-link']/@href\")\n",
    "villes[0:5]"
   ]
  },
  {
   "cell_type": "code",
   "execution_count": 3,
   "metadata": {},
   "outputs": [
    {
     "data": {
      "text/plain": [
       "False"
      ]
     },
     "execution_count": 3,
     "metadata": {},
     "output_type": "execute_result"
    }
   ],
   "source": [
    "def pageContainsSuite(ville, page):\n",
    "    url = 'https://labelleassiette.fr/chef-a-domicile/menus/' + ville\n",
    "    params = {'gamme': 'allMenus',\n",
    "             'searchType': 'private-chef',\n",
    "             'country': 'FR',\n",
    "             'experienceType': 'private-chef',\n",
    "             'page': page}\n",
    "    response = requests.get(url, params=params)\n",
    "    content_source = response.text.encode(\"utf-8\")\n",
    "    xml_doc = html.document_fromstring(content_source)\n",
    "    page_suite_existe = xml_doc.xpath(\"//@data-next-page-url\")\n",
    "    return page_suite_existe[0] != 'undefined'\n",
    "\n",
    "pageContainsSuite('Brest', 3)"
   ]
  },
  {
   "cell_type": "code",
   "execution_count": 4,
   "metadata": {},
   "outputs": [
    {
     "data": {
      "text/plain": [
       "['la-belle-assiette-france',\n",
       " 'la-belle-assiette-france',\n",
       " 'la-belle-assiette-france',\n",
       " 'jacob-cenesca',\n",
       " 'adrien-demametz',\n",
       " 'jacob-cenesca']"
      ]
     },
     "execution_count": 4,
     "metadata": {},
     "output_type": "execute_result"
    }
   ],
   "source": [
    "def getChefsVillePage(ville, page):\n",
    "    url = 'https://labelleassiette.fr/chef-a-domicile/menus/' + ville\n",
    "    params = {'gamme': 'allMenus',\n",
    "             'searchType': 'private-chef',\n",
    "             'country': 'FR',\n",
    "             'experienceType': 'private-chef',\n",
    "             'page': page}\n",
    "    response = requests.get(url, params=params)\n",
    "    content_source = response.text.encode(\"utf-8\")\n",
    "    xml_doc = html.document_fromstring(content_source)\n",
    "    chefs = xml_doc.xpath(\"//@data-chef-slug\")\n",
    "    return chefs\n",
    "\n",
    "getChefsVillePage('Lille', 5)"
   ]
  },
  {
   "cell_type": "code",
   "execution_count": 5,
   "metadata": {
    "collapsed": true
   },
   "outputs": [],
   "source": [
    "OUTPUT_PATH = '../_outputs/chefs_{}/'.format(date_jour)"
   ]
  },
  {
   "cell_type": "code",
   "execution_count": 6,
   "metadata": {},
   "outputs": [
    {
     "name": "stdout",
     "output_type": "stream",
     "text": [
      "Ville en cours = lyon\n",
      "Page en cours = 1\n",
      "Ville en cours = lyon\n",
      "Page en cours = 2\n",
      "Ville en cours = lyon\n",
      "Page en cours = 3\n",
      "Ville en cours = lyon\n",
      "Page en cours = 4\n",
      "Ville en cours = lyon\n",
      "Page en cours = 5\n",
      "Ville en cours = lyon\n",
      "Page en cours = 6\n",
      "Ville en cours = lyon\n",
      "Page en cours = 7\n",
      "Ville en cours = lyon\n",
      "Page en cours = 8\n",
      "Ville en cours = lyon\n",
      "Page en cours = 9\n",
      "Ville en cours = lyon\n",
      "Page en cours = 10\n",
      "Ville en cours = lyon\n",
      "Page en cours = 11\n",
      "Ville en cours = lyon\n",
      "Page en cours = 12\n",
      "Ville en cours = lyon\n",
      "Page en cours = 13\n",
      "Ville en cours = lyon\n",
      "Page en cours = 14\n"
     ]
    },
    {
     "data": {
      "text/plain": [
       "1366"
      ]
     },
     "execution_count": 6,
     "metadata": {},
     "output_type": "execute_result"
    },
    {
     "name": "stdout",
     "output_type": "stream",
     "text": [
      "Ville en cours = marseille\n",
      "Page en cours = 1\n",
      "Ville en cours = marseille\n",
      "Page en cours = 2\n",
      "Ville en cours = marseille\n",
      "Page en cours = 3\n",
      "Ville en cours = marseille\n",
      "Page en cours = 4\n",
      "Ville en cours = marseille\n",
      "Page en cours = 5\n",
      "Ville en cours = marseille\n",
      "Page en cours = 6\n",
      "Ville en cours = marseille\n",
      "Page en cours = 7\n",
      "Ville en cours = marseille\n",
      "Page en cours = 8\n",
      "Ville en cours = marseille\n",
      "Page en cours = 9\n",
      "Ville en cours = marseille\n",
      "Page en cours = 10\n",
      "Ville en cours = marseille\n",
      "Page en cours = 11\n",
      "Ville en cours = marseille\n",
      "Page en cours = 12\n",
      "Ville en cours = marseille\n",
      "Page en cours = 13\n",
      "Ville en cours = marseille\n",
      "Page en cours = 14\n",
      "Ville en cours = marseille\n",
      "Page en cours = 15\n",
      "Ville en cours = marseille\n",
      "Page en cours = 16\n"
     ]
    },
    {
     "data": {
      "text/plain": [
       "1553"
      ]
     },
     "execution_count": 6,
     "metadata": {},
     "output_type": "execute_result"
    },
    {
     "name": "stdout",
     "output_type": "stream",
     "text": [
      "Ville en cours = paris\n",
      "Page en cours = 1\n",
      "Ville en cours = paris\n",
      "Page en cours = 2\n",
      "Ville en cours = paris\n",
      "Page en cours = 3\n",
      "Ville en cours = paris\n",
      "Page en cours = 4\n",
      "Ville en cours = paris\n",
      "Page en cours = 5\n",
      "Ville en cours = paris\n",
      "Page en cours = 6\n",
      "Ville en cours = paris\n",
      "Page en cours = 7\n",
      "Ville en cours = paris\n",
      "Page en cours = 8\n",
      "Ville en cours = paris\n",
      "Page en cours = 9\n",
      "Ville en cours = paris\n",
      "Page en cours = 10\n",
      "Ville en cours = paris\n",
      "Page en cours = 11\n",
      "Ville en cours = paris\n",
      "Page en cours = 12\n",
      "Ville en cours = paris\n",
      "Page en cours = 13\n",
      "Ville en cours = paris\n",
      "Page en cours = 14\n",
      "Ville en cours = paris\n",
      "Page en cours = 15\n",
      "Ville en cours = paris\n",
      "Page en cours = 16\n",
      "Ville en cours = paris\n",
      "Page en cours = 17\n",
      "Ville en cours = paris\n",
      "Page en cours = 18\n",
      "Ville en cours = paris\n",
      "Page en cours = 19\n",
      "Ville en cours = paris\n",
      "Page en cours = 20\n",
      "Ville en cours = paris\n",
      "Page en cours = 21\n",
      "Ville en cours = paris\n",
      "Page en cours = 22\n",
      "Ville en cours = paris\n",
      "Page en cours = 23\n",
      "Ville en cours = paris\n",
      "Page en cours = 24\n",
      "Ville en cours = paris\n",
      "Page en cours = 25\n",
      "Ville en cours = paris\n",
      "Page en cours = 26\n",
      "Ville en cours = paris\n",
      "Page en cours = 27\n",
      "Ville en cours = paris\n",
      "Page en cours = 28\n",
      "Ville en cours = paris\n",
      "Page en cours = 29\n",
      "Ville en cours = paris\n",
      "Page en cours = 30\n",
      "Ville en cours = paris\n",
      "Page en cours = 31\n",
      "Ville en cours = paris\n",
      "Page en cours = 32\n",
      "Ville en cours = paris\n",
      "Page en cours = 33\n",
      "Ville en cours = paris\n",
      "Page en cours = 34\n",
      "Ville en cours = paris\n",
      "Page en cours = 35\n",
      "Ville en cours = paris\n",
      "Page en cours = 36\n",
      "Ville en cours = paris\n",
      "Page en cours = 37\n",
      "Ville en cours = paris\n",
      "Page en cours = 38\n",
      "Ville en cours = paris\n",
      "Page en cours = 39\n",
      "Ville en cours = paris\n",
      "Page en cours = 40\n",
      "Ville en cours = paris\n",
      "Page en cours = 41\n",
      "Ville en cours = paris\n",
      "Page en cours = 42\n",
      "Ville en cours = paris\n",
      "Page en cours = 43\n",
      "Ville en cours = paris\n",
      "Page en cours = 44\n",
      "Ville en cours = paris\n",
      "Page en cours = 45\n",
      "Ville en cours = paris\n",
      "Page en cours = 46\n",
      "Ville en cours = paris\n",
      "Page en cours = 47\n",
      "Ville en cours = paris\n",
      "Page en cours = 48\n",
      "Ville en cours = paris\n",
      "Page en cours = 49\n",
      "Ville en cours = paris\n",
      "Page en cours = 50\n",
      "Ville en cours = paris\n",
      "Page en cours = 51\n",
      "Ville en cours = paris\n",
      "Page en cours = 52\n",
      "Ville en cours = paris\n",
      "Page en cours = 53\n",
      "Ville en cours = paris\n",
      "Page en cours = 54\n",
      "Ville en cours = paris\n",
      "Page en cours = 55\n",
      "Ville en cours = paris\n",
      "Page en cours = 56\n",
      "Ville en cours = paris\n",
      "Page en cours = 57\n",
      "Ville en cours = paris\n",
      "Page en cours = 58\n",
      "Ville en cours = paris\n",
      "Page en cours = 59\n",
      "Ville en cours = paris\n",
      "Page en cours = 60\n",
      "Ville en cours = paris\n",
      "Page en cours = 61\n",
      "Ville en cours = paris\n",
      "Page en cours = 62\n",
      "Ville en cours = paris\n",
      "Page en cours = 63\n",
      "Ville en cours = paris\n",
      "Page en cours = 64\n",
      "Ville en cours = paris\n",
      "Page en cours = 65\n",
      "Ville en cours = paris\n",
      "Page en cours = 66\n",
      "Ville en cours = paris\n",
      "Page en cours = 67\n",
      "Ville en cours = paris\n",
      "Page en cours = 68\n",
      "Ville en cours = paris\n",
      "Page en cours = 69\n",
      "Ville en cours = paris\n",
      "Page en cours = 70\n",
      "Ville en cours = paris\n",
      "Page en cours = 71\n",
      "Ville en cours = paris\n",
      "Page en cours = 72\n",
      "Ville en cours = paris\n",
      "Page en cours = 73\n",
      "Ville en cours = paris\n",
      "Page en cours = 74\n",
      "Ville en cours = paris\n",
      "Page en cours = 75\n",
      "Ville en cours = paris\n",
      "Page en cours = 76\n",
      "Ville en cours = paris\n",
      "Page en cours = 77\n",
      "Ville en cours = paris\n",
      "Page en cours = 78\n",
      "Ville en cours = paris\n",
      "Page en cours = 79\n",
      "Ville en cours = paris\n",
      "Page en cours = 80\n",
      "Ville en cours = paris\n",
      "Page en cours = 81\n",
      "Ville en cours = paris\n",
      "Page en cours = 82\n",
      "Ville en cours = paris\n",
      "Page en cours = 83\n",
      "Ville en cours = paris\n",
      "Page en cours = 84\n",
      "Ville en cours = paris\n",
      "Page en cours = 85\n",
      "Ville en cours = paris\n",
      "Page en cours = 86\n",
      "Ville en cours = paris\n",
      "Page en cours = 87\n",
      "Ville en cours = paris\n",
      "Page en cours = 88\n",
      "Ville en cours = paris\n",
      "Page en cours = 89\n",
      "Ville en cours = paris\n",
      "Page en cours = 90\n",
      "Ville en cours = paris\n",
      "Page en cours = 91\n"
     ]
    },
    {
     "data": {
      "text/plain": [
       "8297"
      ]
     },
     "execution_count": 6,
     "metadata": {},
     "output_type": "execute_result"
    },
    {
     "name": "stdout",
     "output_type": "stream",
     "text": [
      "Ville en cours = strasbourg\n",
      "Page en cours = 1\n",
      "Ville en cours = strasbourg\n",
      "Page en cours = 2\n",
      "Ville en cours = strasbourg\n",
      "Page en cours = 3\n",
      "Ville en cours = strasbourg\n",
      "Page en cours = 4\n",
      "Ville en cours = strasbourg\n",
      "Page en cours = 5\n",
      "Ville en cours = strasbourg\n",
      "Page en cours = 6\n"
     ]
    },
    {
     "data": {
      "text/plain": [
       "747"
      ]
     },
     "execution_count": 6,
     "metadata": {},
     "output_type": "execute_result"
    },
    {
     "name": "stdout",
     "output_type": "stream",
     "text": [
      "Ville en cours = montpellier\n",
      "Page en cours = 1\n",
      "Ville en cours = montpellier\n",
      "Page en cours = 2\n",
      "Ville en cours = montpellier\n",
      "Page en cours = 3\n",
      "Ville en cours = montpellier\n",
      "Page en cours = 4\n",
      "Ville en cours = montpellier\n",
      "Page en cours = 5\n",
      "Ville en cours = montpellier\n",
      "Page en cours = 6\n",
      "Ville en cours = montpellier\n",
      "Page en cours = 7\n"
     ]
    },
    {
     "data": {
      "text/plain": [
       "770"
      ]
     },
     "execution_count": 6,
     "metadata": {},
     "output_type": "execute_result"
    },
    {
     "name": "stdout",
     "output_type": "stream",
     "text": [
      "Ville en cours = toulouse\n",
      "Page en cours = 1\n",
      "Ville en cours = toulouse\n",
      "Page en cours = 2\n",
      "Ville en cours = toulouse\n",
      "Page en cours = 3\n",
      "Ville en cours = toulouse\n",
      "Page en cours = 4\n",
      "Ville en cours = toulouse\n",
      "Page en cours = 5\n",
      "Ville en cours = toulouse\n",
      "Page en cours = 6\n",
      "Ville en cours = toulouse\n",
      "Page en cours = 7\n",
      "Ville en cours = toulouse\n",
      "Page en cours = 8\n",
      "Ville en cours = toulouse\n",
      "Page en cours = 9\n",
      "Ville en cours = toulouse\n",
      "Page en cours = 10\n",
      "Ville en cours = toulouse\n",
      "Page en cours = 11\n",
      "Ville en cours = toulouse\n",
      "Page en cours = 12\n"
     ]
    },
    {
     "data": {
      "text/plain": [
       "1401"
      ]
     },
     "execution_count": 6,
     "metadata": {},
     "output_type": "execute_result"
    },
    {
     "name": "stdout",
     "output_type": "stream",
     "text": [
      "Ville en cours = nice\n",
      "Page en cours = 1\n",
      "Ville en cours = nice\n",
      "Page en cours = 2\n",
      "Ville en cours = nice\n",
      "Page en cours = 3\n",
      "Ville en cours = nice\n",
      "Page en cours = 4\n",
      "Ville en cours = nice\n",
      "Page en cours = 5\n",
      "Ville en cours = nice\n",
      "Page en cours = 6\n",
      "Ville en cours = nice\n",
      "Page en cours = 7\n",
      "Ville en cours = nice\n",
      "Page en cours = 8\n",
      "Ville en cours = nice\n",
      "Page en cours = 9\n",
      "Ville en cours = nice\n",
      "Page en cours = 10\n",
      "Ville en cours = nice\n",
      "Page en cours = 11\n",
      "Ville en cours = nice\n",
      "Page en cours = 12\n",
      "Ville en cours = nice\n",
      "Page en cours = 13\n",
      "Ville en cours = nice\n",
      "Page en cours = 14\n",
      "Ville en cours = nice\n",
      "Page en cours = 15\n",
      "Ville en cours = nice\n",
      "Page en cours = 16\n",
      "Ville en cours = nice\n",
      "Page en cours = 17\n"
     ]
    },
    {
     "data": {
      "text/plain": [
       "1724"
      ]
     },
     "execution_count": 6,
     "metadata": {},
     "output_type": "execute_result"
    },
    {
     "name": "stdout",
     "output_type": "stream",
     "text": [
      "Ville en cours = lille\n",
      "Page en cours = 1\n",
      "Ville en cours = lille\n",
      "Page en cours = 2\n",
      "Ville en cours = lille\n",
      "Page en cours = 3\n",
      "Ville en cours = lille\n",
      "Page en cours = 4\n",
      "Ville en cours = lille\n",
      "Page en cours = 5\n",
      "Ville en cours = lille\n",
      "Page en cours = 6\n"
     ]
    },
    {
     "data": {
      "text/plain": [
       "730"
      ]
     },
     "execution_count": 6,
     "metadata": {},
     "output_type": "execute_result"
    },
    {
     "name": "stdout",
     "output_type": "stream",
     "text": [
      "Ville en cours = nantes\n",
      "Page en cours = 1\n",
      "Ville en cours = nantes\n",
      "Page en cours = 2\n",
      "Ville en cours = nantes\n",
      "Page en cours = 3\n",
      "Ville en cours = nantes\n",
      "Page en cours = 4\n",
      "Ville en cours = nantes\n",
      "Page en cours = 5\n",
      "Ville en cours = nantes\n",
      "Page en cours = 6\n",
      "Ville en cours = nantes\n",
      "Page en cours = 7\n"
     ]
    },
    {
     "data": {
      "text/plain": [
       "809"
      ]
     },
     "execution_count": 6,
     "metadata": {},
     "output_type": "execute_result"
    },
    {
     "name": "stdout",
     "output_type": "stream",
     "text": [
      "Ville en cours = bordeaux\n",
      "Page en cours = 1\n",
      "Ville en cours = bordeaux\n",
      "Page en cours = 2\n",
      "Ville en cours = bordeaux\n",
      "Page en cours = 3\n",
      "Ville en cours = bordeaux\n",
      "Page en cours = 4\n",
      "Ville en cours = bordeaux\n",
      "Page en cours = 5\n",
      "Ville en cours = bordeaux\n",
      "Page en cours = 6\n",
      "Ville en cours = bordeaux\n",
      "Page en cours = 7\n",
      "Ville en cours = bordeaux\n",
      "Page en cours = 8\n",
      "Ville en cours = bordeaux\n",
      "Page en cours = 9\n",
      "Ville en cours = bordeaux\n",
      "Page en cours = 10\n",
      "Ville en cours = bordeaux\n",
      "Page en cours = 11\n"
     ]
    },
    {
     "data": {
      "text/plain": [
       "1205"
      ]
     },
     "execution_count": 6,
     "metadata": {},
     "output_type": "execute_result"
    },
    {
     "name": "stdout",
     "output_type": "stream",
     "text": [
      "Ville en cours = neuilly-sur-seine\n",
      "Page en cours = 1\n",
      "Ville en cours = neuilly-sur-seine\n",
      "Page en cours = 2\n",
      "Ville en cours = neuilly-sur-seine\n",
      "Page en cours = 3\n",
      "Ville en cours = neuilly-sur-seine\n",
      "Page en cours = 4\n",
      "Ville en cours = neuilly-sur-seine\n",
      "Page en cours = 5\n",
      "Ville en cours = neuilly-sur-seine\n",
      "Page en cours = 6\n",
      "Ville en cours = neuilly-sur-seine\n",
      "Page en cours = 7\n",
      "Ville en cours = neuilly-sur-seine\n",
      "Page en cours = 8\n",
      "Ville en cours = neuilly-sur-seine\n",
      "Page en cours = 9\n",
      "Ville en cours = neuilly-sur-seine\n",
      "Page en cours = 10\n",
      "Ville en cours = neuilly-sur-seine\n",
      "Page en cours = 11\n",
      "Ville en cours = neuilly-sur-seine\n",
      "Page en cours = 12\n",
      "Ville en cours = neuilly-sur-seine\n",
      "Page en cours = 13\n",
      "Ville en cours = neuilly-sur-seine\n",
      "Page en cours = 14\n",
      "Ville en cours = neuilly-sur-seine\n",
      "Page en cours = 15\n",
      "Ville en cours = neuilly-sur-seine\n",
      "Page en cours = 16\n",
      "Ville en cours = neuilly-sur-seine\n",
      "Page en cours = 17\n",
      "Ville en cours = neuilly-sur-seine\n",
      "Page en cours = 18\n",
      "Ville en cours = neuilly-sur-seine\n",
      "Page en cours = 19\n",
      "Ville en cours = neuilly-sur-seine\n",
      "Page en cours = 20\n",
      "Ville en cours = neuilly-sur-seine\n",
      "Page en cours = 21\n",
      "Ville en cours = neuilly-sur-seine\n",
      "Page en cours = 22\n",
      "Ville en cours = neuilly-sur-seine\n",
      "Page en cours = 23\n",
      "Ville en cours = neuilly-sur-seine\n",
      "Page en cours = 24\n",
      "Ville en cours = neuilly-sur-seine\n",
      "Page en cours = 25\n",
      "Ville en cours = neuilly-sur-seine\n",
      "Page en cours = 26\n",
      "Ville en cours = neuilly-sur-seine\n",
      "Page en cours = 27\n",
      "Ville en cours = neuilly-sur-seine\n",
      "Page en cours = 28\n",
      "Ville en cours = neuilly-sur-seine\n",
      "Page en cours = 29\n",
      "Ville en cours = neuilly-sur-seine\n",
      "Page en cours = 30\n",
      "Ville en cours = neuilly-sur-seine\n",
      "Page en cours = 31\n",
      "Ville en cours = neuilly-sur-seine\n",
      "Page en cours = 32\n",
      "Ville en cours = neuilly-sur-seine\n",
      "Page en cours = 33\n",
      "Ville en cours = neuilly-sur-seine\n",
      "Page en cours = 34\n",
      "Ville en cours = neuilly-sur-seine\n",
      "Page en cours = 35\n",
      "Ville en cours = neuilly-sur-seine\n",
      "Page en cours = 36\n",
      "Ville en cours = neuilly-sur-seine\n",
      "Page en cours = 37\n",
      "Ville en cours = neuilly-sur-seine\n",
      "Page en cours = 38\n",
      "Ville en cours = neuilly-sur-seine\n",
      "Page en cours = 39\n",
      "Ville en cours = neuilly-sur-seine\n",
      "Page en cours = 40\n",
      "Ville en cours = neuilly-sur-seine\n",
      "Page en cours = 41\n",
      "Ville en cours = neuilly-sur-seine\n",
      "Page en cours = 42\n",
      "Ville en cours = neuilly-sur-seine\n",
      "Page en cours = 43\n",
      "Ville en cours = neuilly-sur-seine\n",
      "Page en cours = 44\n",
      "Ville en cours = neuilly-sur-seine\n",
      "Page en cours = 45\n",
      "Ville en cours = neuilly-sur-seine\n",
      "Page en cours = 46\n",
      "Ville en cours = neuilly-sur-seine\n",
      "Page en cours = 47\n",
      "Ville en cours = neuilly-sur-seine\n",
      "Page en cours = 48\n",
      "Ville en cours = neuilly-sur-seine\n",
      "Page en cours = 49\n",
      "Ville en cours = neuilly-sur-seine\n",
      "Page en cours = 50\n",
      "Ville en cours = neuilly-sur-seine\n",
      "Page en cours = 51\n",
      "Ville en cours = neuilly-sur-seine\n",
      "Page en cours = 52\n",
      "Ville en cours = neuilly-sur-seine\n",
      "Page en cours = 53\n",
      "Ville en cours = neuilly-sur-seine\n",
      "Page en cours = 54\n",
      "Ville en cours = neuilly-sur-seine\n",
      "Page en cours = 55\n",
      "Ville en cours = neuilly-sur-seine\n",
      "Page en cours = 56\n",
      "Ville en cours = neuilly-sur-seine\n",
      "Page en cours = 57\n",
      "Ville en cours = neuilly-sur-seine\n",
      "Page en cours = 58\n",
      "Ville en cours = neuilly-sur-seine\n",
      "Page en cours = 59\n",
      "Ville en cours = neuilly-sur-seine\n",
      "Page en cours = 60\n",
      "Ville en cours = neuilly-sur-seine\n",
      "Page en cours = 61\n",
      "Ville en cours = neuilly-sur-seine\n",
      "Page en cours = 62\n",
      "Ville en cours = neuilly-sur-seine\n",
      "Page en cours = 63\n",
      "Ville en cours = neuilly-sur-seine\n",
      "Page en cours = 64\n",
      "Ville en cours = neuilly-sur-seine\n",
      "Page en cours = 65\n",
      "Ville en cours = neuilly-sur-seine\n",
      "Page en cours = 66\n",
      "Ville en cours = neuilly-sur-seine\n",
      "Page en cours = 67\n",
      "Ville en cours = neuilly-sur-seine\n",
      "Page en cours = 68\n",
      "Ville en cours = neuilly-sur-seine\n",
      "Page en cours = 69\n",
      "Ville en cours = neuilly-sur-seine\n",
      "Page en cours = 70\n",
      "Ville en cours = neuilly-sur-seine\n",
      "Page en cours = 71\n",
      "Ville en cours = neuilly-sur-seine\n",
      "Page en cours = 72\n",
      "Ville en cours = neuilly-sur-seine\n",
      "Page en cours = 73\n",
      "Ville en cours = neuilly-sur-seine\n",
      "Page en cours = 74\n",
      "Ville en cours = neuilly-sur-seine\n",
      "Page en cours = 75\n",
      "Ville en cours = neuilly-sur-seine\n",
      "Page en cours = 76\n",
      "Ville en cours = neuilly-sur-seine\n",
      "Page en cours = 77\n"
     ]
    },
    {
     "data": {
      "text/plain": [
       "7165"
      ]
     },
     "execution_count": 6,
     "metadata": {},
     "output_type": "execute_result"
    },
    {
     "name": "stdout",
     "output_type": "stream",
     "text": [
      "Ville en cours = reims\n",
      "Page en cours = 1\n",
      "Ville en cours = reims\n",
      "Page en cours = 2\n",
      "Ville en cours = reims\n",
      "Page en cours = 3\n",
      "Ville en cours = reims\n",
      "Page en cours = 4\n"
     ]
    },
    {
     "data": {
      "text/plain": [
       "503"
      ]
     },
     "execution_count": 6,
     "metadata": {},
     "output_type": "execute_result"
    },
    {
     "name": "stdout",
     "output_type": "stream",
     "text": [
      "Ville en cours = cannes\n",
      "Page en cours = 1\n",
      "Ville en cours = cannes\n",
      "Page en cours = 2\n",
      "Ville en cours = cannes\n",
      "Page en cours = 3\n",
      "Ville en cours = cannes\n",
      "Page en cours = 4\n",
      "Ville en cours = cannes\n",
      "Page en cours = 5\n",
      "Ville en cours = cannes\n",
      "Page en cours = 6\n",
      "Ville en cours = cannes\n",
      "Page en cours = 7\n",
      "Ville en cours = cannes\n",
      "Page en cours = 8\n",
      "Ville en cours = cannes\n",
      "Page en cours = 9\n",
      "Ville en cours = cannes\n",
      "Page en cours = 10\n",
      "Ville en cours = cannes\n",
      "Page en cours = 11\n",
      "Ville en cours = cannes\n",
      "Page en cours = 12\n",
      "Ville en cours = cannes\n",
      "Page en cours = 13\n",
      "Ville en cours = cannes\n",
      "Page en cours = 14\n",
      "Ville en cours = cannes\n",
      "Page en cours = 15\n",
      "Ville en cours = cannes\n",
      "Page en cours = 16\n",
      "Ville en cours = cannes\n",
      "Page en cours = 17\n",
      "Ville en cours = cannes\n",
      "Page en cours = 18\n",
      "Ville en cours = cannes\n",
      "Page en cours = 19\n"
     ]
    },
    {
     "data": {
      "text/plain": [
       "1991"
      ]
     },
     "execution_count": 6,
     "metadata": {},
     "output_type": "execute_result"
    },
    {
     "name": "stdout",
     "output_type": "stream",
     "text": [
      "Ville en cours = rennes\n",
      "Page en cours = 1\n",
      "Ville en cours = rennes\n",
      "Page en cours = 2\n",
      "Ville en cours = rennes\n",
      "Page en cours = 3\n",
      "Ville en cours = rennes\n",
      "Page en cours = 4\n"
     ]
    },
    {
     "data": {
      "text/plain": [
       "563"
      ]
     },
     "execution_count": 6,
     "metadata": {},
     "output_type": "execute_result"
    },
    {
     "name": "stdout",
     "output_type": "stream",
     "text": [
      "Ville en cours = saint-tropez\n",
      "Page en cours = 1\n",
      "Ville en cours = saint-tropez\n",
      "Page en cours = 2\n",
      "Ville en cours = saint-tropez\n",
      "Page en cours = 3\n",
      "Ville en cours = saint-tropez\n",
      "Page en cours = 4\n",
      "Ville en cours = saint-tropez\n",
      "Page en cours = 5\n",
      "Ville en cours = saint-tropez\n",
      "Page en cours = 6\n",
      "Ville en cours = saint-tropez\n",
      "Page en cours = 7\n",
      "Ville en cours = saint-tropez\n",
      "Page en cours = 8\n"
     ]
    },
    {
     "data": {
      "text/plain": [
       "921"
      ]
     },
     "execution_count": 6,
     "metadata": {},
     "output_type": "execute_result"
    },
    {
     "name": "stdout",
     "output_type": "stream",
     "text": [
      "Ville en cours = monaco\n",
      "Page en cours = 1\n",
      "Ville en cours = monaco\n",
      "Page en cours = 2\n"
     ]
    },
    {
     "data": {
      "text/plain": [
       "244"
      ]
     },
     "execution_count": 6,
     "metadata": {},
     "output_type": "execute_result"
    },
    {
     "name": "stdout",
     "output_type": "stream",
     "text": [
      "Ville en cours = toulon\n",
      "Page en cours = 1\n",
      "Ville en cours = toulon\n",
      "Page en cours = 2\n",
      "Ville en cours = toulon\n",
      "Page en cours = 3\n",
      "Ville en cours = toulon\n",
      "Page en cours = 4\n",
      "Ville en cours = toulon\n",
      "Page en cours = 5\n",
      "Ville en cours = toulon\n",
      "Page en cours = 6\n",
      "Ville en cours = toulon\n",
      "Page en cours = 7\n",
      "Ville en cours = toulon\n",
      "Page en cours = 8\n",
      "Ville en cours = toulon\n",
      "Page en cours = 9\n",
      "Ville en cours = toulon\n",
      "Page en cours = 10\n",
      "Ville en cours = toulon\n",
      "Page en cours = 11\n",
      "Ville en cours = toulon\n",
      "Page en cours = 12\n",
      "Ville en cours = toulon\n",
      "Page en cours = 13\n",
      "Ville en cours = toulon\n",
      "Page en cours = 14\n"
     ]
    },
    {
     "data": {
      "text/plain": [
       "1346"
      ]
     },
     "execution_count": 6,
     "metadata": {},
     "output_type": "execute_result"
    },
    {
     "name": "stdout",
     "output_type": "stream",
     "text": [
      "Ville en cours = saint-etienne\n",
      "Page en cours = 1\n",
      "Ville en cours = saint-etienne\n",
      "Page en cours = 2\n",
      "Ville en cours = saint-etienne\n",
      "Page en cours = 3\n",
      "Ville en cours = saint-etienne\n",
      "Page en cours = 4\n",
      "Ville en cours = saint-etienne\n",
      "Page en cours = 5\n",
      "Ville en cours = saint-etienne\n",
      "Page en cours = 6\n"
     ]
    },
    {
     "data": {
      "text/plain": [
       "656"
      ]
     },
     "execution_count": 6,
     "metadata": {},
     "output_type": "execute_result"
    },
    {
     "name": "stdout",
     "output_type": "stream",
     "text": [
      "Ville en cours = versailles\n",
      "Page en cours = 1\n",
      "Ville en cours = versailles\n",
      "Page en cours = 2\n",
      "Ville en cours = versailles\n",
      "Page en cours = 3\n",
      "Ville en cours = versailles\n",
      "Page en cours = 4\n",
      "Ville en cours = versailles\n",
      "Page en cours = 5\n",
      "Ville en cours = versailles\n",
      "Page en cours = 6\n",
      "Ville en cours = versailles\n",
      "Page en cours = 7\n",
      "Ville en cours = versailles\n",
      "Page en cours = 8\n",
      "Ville en cours = versailles\n",
      "Page en cours = 9\n",
      "Ville en cours = versailles\n",
      "Page en cours = 10\n",
      "Ville en cours = versailles\n",
      "Page en cours = 11\n",
      "Ville en cours = versailles\n",
      "Page en cours = 12\n",
      "Ville en cours = versailles\n",
      "Page en cours = 13\n",
      "Ville en cours = versailles\n",
      "Page en cours = 14\n",
      "Ville en cours = versailles\n",
      "Page en cours = 15\n",
      "Ville en cours = versailles\n",
      "Page en cours = 16\n",
      "Ville en cours = versailles\n",
      "Page en cours = 17\n",
      "Ville en cours = versailles\n",
      "Page en cours = 18\n",
      "Ville en cours = versailles\n",
      "Page en cours = 19\n",
      "Ville en cours = versailles\n",
      "Page en cours = 20\n",
      "Ville en cours = versailles\n",
      "Page en cours = 21\n",
      "Ville en cours = versailles\n",
      "Page en cours = 22\n",
      "Ville en cours = versailles\n",
      "Page en cours = 23\n",
      "Ville en cours = versailles\n",
      "Page en cours = 24\n",
      "Ville en cours = versailles\n",
      "Page en cours = 25\n",
      "Ville en cours = versailles\n",
      "Page en cours = 26\n",
      "Ville en cours = versailles\n",
      "Page en cours = 27\n",
      "Ville en cours = versailles\n",
      "Page en cours = 28\n",
      "Ville en cours = versailles\n",
      "Page en cours = 29\n",
      "Ville en cours = versailles\n",
      "Page en cours = 30\n",
      "Ville en cours = versailles\n",
      "Page en cours = 31\n",
      "Ville en cours = versailles\n",
      "Page en cours = 32\n",
      "Ville en cours = versailles\n",
      "Page en cours = 33\n",
      "Ville en cours = versailles\n",
      "Page en cours = 34\n",
      "Ville en cours = versailles\n",
      "Page en cours = 35\n",
      "Ville en cours = versailles\n",
      "Page en cours = 36\n",
      "Ville en cours = versailles\n",
      "Page en cours = 37\n",
      "Ville en cours = versailles\n",
      "Page en cours = 38\n",
      "Ville en cours = versailles\n",
      "Page en cours = 39\n",
      "Ville en cours = versailles\n",
      "Page en cours = 40\n",
      "Ville en cours = versailles\n",
      "Page en cours = 41\n"
     ]
    },
    {
     "data": {
      "text/plain": [
       "3833"
      ]
     },
     "execution_count": 6,
     "metadata": {},
     "output_type": "execute_result"
    },
    {
     "name": "stdout",
     "output_type": "stream",
     "text": [
      "Ville en cours = le-havre\n",
      "Page en cours = 1\n",
      "Ville en cours = le-havre\n",
      "Page en cours = 2\n",
      "Ville en cours = le-havre\n",
      "Page en cours = 3\n",
      "Ville en cours = le-havre\n",
      "Page en cours = 4\n",
      "Ville en cours = le-havre\n",
      "Page en cours = 5\n"
     ]
    },
    {
     "data": {
      "text/plain": [
       "589"
      ]
     },
     "execution_count": 6,
     "metadata": {},
     "output_type": "execute_result"
    },
    {
     "name": "stdout",
     "output_type": "stream",
     "text": [
      "Ville en cours = saint-nom-la-breteche\n",
      "Page en cours = 1\n",
      "Ville en cours = saint-nom-la-breteche\n",
      "Page en cours = 2\n",
      "Ville en cours = saint-nom-la-breteche\n",
      "Page en cours = 3\n",
      "Ville en cours = saint-nom-la-breteche\n",
      "Page en cours = 4\n",
      "Ville en cours = saint-nom-la-breteche\n",
      "Page en cours = 5\n",
      "Ville en cours = saint-nom-la-breteche\n",
      "Page en cours = 6\n",
      "Ville en cours = saint-nom-la-breteche\n",
      "Page en cours = 7\n",
      "Ville en cours = saint-nom-la-breteche\n",
      "Page en cours = 8\n",
      "Ville en cours = saint-nom-la-breteche\n",
      "Page en cours = 9\n",
      "Ville en cours = saint-nom-la-breteche\n",
      "Page en cours = 10\n",
      "Ville en cours = saint-nom-la-breteche\n",
      "Page en cours = 11\n",
      "Ville en cours = saint-nom-la-breteche\n",
      "Page en cours = 12\n",
      "Ville en cours = saint-nom-la-breteche\n",
      "Page en cours = 13\n",
      "Ville en cours = saint-nom-la-breteche\n",
      "Page en cours = 14\n",
      "Ville en cours = saint-nom-la-breteche\n",
      "Page en cours = 15\n",
      "Ville en cours = saint-nom-la-breteche\n",
      "Page en cours = 16\n",
      "Ville en cours = saint-nom-la-breteche\n",
      "Page en cours = 17\n",
      "Ville en cours = saint-nom-la-breteche\n",
      "Page en cours = 18\n",
      "Ville en cours = saint-nom-la-breteche\n",
      "Page en cours = 19\n",
      "Ville en cours = saint-nom-la-breteche\n",
      "Page en cours = 20\n",
      "Ville en cours = saint-nom-la-breteche\n",
      "Page en cours = 21\n",
      "Ville en cours = saint-nom-la-breteche\n",
      "Page en cours = 22\n",
      "Ville en cours = saint-nom-la-breteche\n",
      "Page en cours = 23\n",
      "Ville en cours = saint-nom-la-breteche\n",
      "Page en cours = 24\n",
      "Ville en cours = saint-nom-la-breteche\n",
      "Page en cours = 25\n",
      "Ville en cours = saint-nom-la-breteche\n",
      "Page en cours = 26\n",
      "Ville en cours = saint-nom-la-breteche\n",
      "Page en cours = 27\n",
      "Ville en cours = saint-nom-la-breteche\n",
      "Page en cours = 28\n",
      "Ville en cours = saint-nom-la-breteche\n",
      "Page en cours = 29\n",
      "Ville en cours = saint-nom-la-breteche\n",
      "Page en cours = 30\n",
      "Ville en cours = saint-nom-la-breteche\n",
      "Page en cours = 31\n"
     ]
    },
    {
     "data": {
      "text/plain": [
       "2990"
      ]
     },
     "execution_count": 6,
     "metadata": {},
     "output_type": "execute_result"
    },
    {
     "name": "stdout",
     "output_type": "stream",
     "text": [
      "Ville en cours = tourgeville\n",
      "Page en cours = 1\n",
      "Ville en cours = tourgeville\n",
      "Page en cours = 2\n",
      "Ville en cours = tourgeville\n",
      "Page en cours = 3\n",
      "Ville en cours = tourgeville\n",
      "Page en cours = 4\n",
      "Ville en cours = tourgeville\n",
      "Page en cours = 5\n"
     ]
    },
    {
     "data": {
      "text/plain": [
       "643"
      ]
     },
     "execution_count": 6,
     "metadata": {},
     "output_type": "execute_result"
    },
    {
     "name": "stdout",
     "output_type": "stream",
     "text": [
      "Ville en cours = grenoble\n",
      "Page en cours = 1\n",
      "Ville en cours = grenoble\n",
      "Page en cours = 2\n",
      "Ville en cours = grenoble\n",
      "Page en cours = 3\n"
     ]
    },
    {
     "data": {
      "text/plain": [
       "383"
      ]
     },
     "execution_count": 6,
     "metadata": {},
     "output_type": "execute_result"
    },
    {
     "name": "stdout",
     "output_type": "stream",
     "text": [
      "Ville en cours = angers\n",
      "Page en cours = 1\n",
      "Ville en cours = angers\n",
      "Page en cours = 2\n",
      "Ville en cours = angers\n",
      "Page en cours = 3\n",
      "Ville en cours = angers\n",
      "Page en cours = 4\n"
     ]
    },
    {
     "data": {
      "text/plain": [
       "518"
      ]
     },
     "execution_count": 6,
     "metadata": {},
     "output_type": "execute_result"
    },
    {
     "name": "stdout",
     "output_type": "stream",
     "text": [
      "Ville en cours = dijon\n",
      "Page en cours = 1\n",
      "Ville en cours = dijon\n",
      "Page en cours = 2\n",
      "Ville en cours = dijon\n",
      "Page en cours = 3\n",
      "Ville en cours = dijon\n",
      "Page en cours = 4\n"
     ]
    },
    {
     "data": {
      "text/plain": [
       "471"
      ]
     },
     "execution_count": 6,
     "metadata": {},
     "output_type": "execute_result"
    },
    {
     "name": "stdout",
     "output_type": "stream",
     "text": [
      "Ville en cours = villeurbanne\n",
      "Page en cours = 1\n",
      "Ville en cours = villeurbanne\n",
      "Page en cours = 2\n",
      "Ville en cours = villeurbanne\n",
      "Page en cours = 3\n",
      "Ville en cours = villeurbanne\n",
      "Page en cours = 4\n",
      "Ville en cours = villeurbanne\n",
      "Page en cours = 5\n",
      "Ville en cours = villeurbanne\n",
      "Page en cours = 6\n",
      "Ville en cours = villeurbanne\n",
      "Page en cours = 7\n",
      "Ville en cours = villeurbanne\n",
      "Page en cours = 8\n",
      "Ville en cours = villeurbanne\n",
      "Page en cours = 9\n",
      "Ville en cours = villeurbanne\n",
      "Page en cours = 10\n",
      "Ville en cours = villeurbanne\n",
      "Page en cours = 11\n",
      "Ville en cours = villeurbanne\n",
      "Page en cours = 12\n",
      "Ville en cours = villeurbanne\n",
      "Page en cours = 13\n",
      "Ville en cours = villeurbanne\n",
      "Page en cours = 14\n",
      "Ville en cours = villeurbanne\n",
      "Page en cours = 15\n"
     ]
    },
    {
     "data": {
      "text/plain": [
       "1495"
      ]
     },
     "execution_count": 6,
     "metadata": {},
     "output_type": "execute_result"
    },
    {
     "name": "stdout",
     "output_type": "stream",
     "text": [
      "Ville en cours = le-mans\n",
      "Page en cours = 1\n",
      "Ville en cours = le-mans\n",
      "Page en cours = 2\n",
      "Ville en cours = le-mans\n",
      "Page en cours = 3\n"
     ]
    },
    {
     "data": {
      "text/plain": [
       "469"
      ]
     },
     "execution_count": 6,
     "metadata": {},
     "output_type": "execute_result"
    },
    {
     "name": "stdout",
     "output_type": "stream",
     "text": [
      "Ville en cours = nimes\n",
      "Page en cours = 1\n",
      "Ville en cours = nimes\n",
      "Page en cours = 2\n",
      "Ville en cours = nimes\n",
      "Page en cours = 3\n",
      "Ville en cours = nimes\n",
      "Page en cours = 4\n"
     ]
    },
    {
     "data": {
      "text/plain": [
       "455"
      ]
     },
     "execution_count": 6,
     "metadata": {},
     "output_type": "execute_result"
    },
    {
     "name": "stdout",
     "output_type": "stream",
     "text": [
      "Ville en cours = aix-en-provence\n",
      "Page en cours = 1\n",
      "Ville en cours = aix-en-provence\n",
      "Page en cours = 2\n",
      "Ville en cours = aix-en-provence\n",
      "Page en cours = 3\n",
      "Ville en cours = aix-en-provence\n",
      "Page en cours = 4\n",
      "Ville en cours = aix-en-provence\n",
      "Page en cours = 5\n",
      "Ville en cours = aix-en-provence\n",
      "Page en cours = 6\n",
      "Ville en cours = aix-en-provence\n",
      "Page en cours = 7\n",
      "Ville en cours = aix-en-provence\n",
      "Page en cours = 8\n",
      "Ville en cours = aix-en-provence\n",
      "Page en cours = 9\n",
      "Ville en cours = aix-en-provence\n",
      "Page en cours = 10\n",
      "Ville en cours = aix-en-provence\n",
      "Page en cours = 11\n",
      "Ville en cours = aix-en-provence\n",
      "Page en cours = 12\n",
      "Ville en cours = aix-en-provence\n",
      "Page en cours = 13\n",
      "Ville en cours = aix-en-provence\n",
      "Page en cours = 14\n",
      "Ville en cours = aix-en-provence\n",
      "Page en cours = 15\n"
     ]
    },
    {
     "data": {
      "text/plain": [
       "1486"
      ]
     },
     "execution_count": 6,
     "metadata": {},
     "output_type": "execute_result"
    },
    {
     "name": "stdout",
     "output_type": "stream",
     "text": [
      "Ville en cours = clermont-ferrand\n",
      "Page en cours = 1\n",
      "Ville en cours = clermont-ferrand\n",
      "Page en cours = 2\n",
      "Ville en cours = clermont-ferrand\n",
      "Page en cours = 3\n"
     ]
    },
    {
     "data": {
      "text/plain": [
       "395"
      ]
     },
     "execution_count": 6,
     "metadata": {},
     "output_type": "execute_result"
    },
    {
     "name": "stdout",
     "output_type": "stream",
     "text": [
      "Ville en cours = brest\n",
      "Page en cours = 1\n",
      "Ville en cours = brest\n",
      "Page en cours = 2\n",
      "Ville en cours = brest\n",
      "Page en cours = 3\n"
     ]
    },
    {
     "data": {
      "text/plain": [
       "366"
      ]
     },
     "execution_count": 6,
     "metadata": {},
     "output_type": "execute_result"
    },
    {
     "name": "stdout",
     "output_type": "stream",
     "text": [
      "Ville en cours = limoges\n",
      "Page en cours = 1\n",
      "Ville en cours = limoges\n",
      "Page en cours = 2\n"
     ]
    },
    {
     "data": {
      "text/plain": [
       "299"
      ]
     },
     "execution_count": 6,
     "metadata": {},
     "output_type": "execute_result"
    },
    {
     "name": "stdout",
     "output_type": "stream",
     "text": [
      "Ville en cours = amiens\n",
      "Page en cours = 1\n",
      "Ville en cours = amiens\n",
      "Page en cours = 2\n",
      "Ville en cours = amiens\n",
      "Page en cours = 3\n"
     ]
    },
    {
     "data": {
      "text/plain": [
       "409"
      ]
     },
     "execution_count": 6,
     "metadata": {},
     "output_type": "execute_result"
    },
    {
     "name": "stdout",
     "output_type": "stream",
     "text": [
      "Ville en cours = perpignan\n",
      "Page en cours = 1\n",
      "Ville en cours = perpignan\n",
      "Page en cours = 2\n",
      "Ville en cours = perpignan\n",
      "Page en cours = 3\n"
     ]
    },
    {
     "data": {
      "text/plain": [
       "404"
      ]
     },
     "execution_count": 6,
     "metadata": {},
     "output_type": "execute_result"
    },
    {
     "name": "stdout",
     "output_type": "stream",
     "text": [
      "Ville en cours = tours\n",
      "Page en cours = 1\n",
      "Ville en cours = tours\n",
      "Page en cours = 2\n",
      "Ville en cours = tours\n",
      "Page en cours = 3\n",
      "Ville en cours = tours\n",
      "Page en cours = 4\n"
     ]
    },
    {
     "data": {
      "text/plain": [
       "527"
      ]
     },
     "execution_count": 6,
     "metadata": {},
     "output_type": "execute_result"
    },
    {
     "name": "stdout",
     "output_type": "stream",
     "text": [
      "Ville en cours = metz\n",
      "Page en cours = 1\n",
      "Ville en cours = metz\n",
      "Page en cours = 2\n"
     ]
    },
    {
     "data": {
      "text/plain": [
       "329"
      ]
     },
     "execution_count": 6,
     "metadata": {},
     "output_type": "execute_result"
    },
    {
     "name": "stdout",
     "output_type": "stream",
     "text": [
      "Ville en cours = rouen\n",
      "Page en cours = 1\n",
      "Ville en cours = rouen\n",
      "Page en cours = 2\n",
      "Ville en cours = rouen\n",
      "Page en cours = 3\n",
      "Ville en cours = rouen\n",
      "Page en cours = 4\n"
     ]
    },
    {
     "data": {
      "text/plain": [
       "520"
      ]
     },
     "execution_count": 6,
     "metadata": {},
     "output_type": "execute_result"
    },
    {
     "name": "stdout",
     "output_type": "stream",
     "text": [
      "Ville en cours = boulogne-billancourt\n",
      "Page en cours = 1\n",
      "Ville en cours = boulogne-billancourt\n",
      "Page en cours = 2\n",
      "Ville en cours = boulogne-billancourt\n",
      "Page en cours = 3\n",
      "Ville en cours = boulogne-billancourt\n",
      "Page en cours = 4\n",
      "Ville en cours = boulogne-billancourt\n",
      "Page en cours = 5\n",
      "Ville en cours = boulogne-billancourt\n",
      "Page en cours = 6\n",
      "Ville en cours = boulogne-billancourt\n",
      "Page en cours = 7\n",
      "Ville en cours = boulogne-billancourt\n",
      "Page en cours = 8\n",
      "Ville en cours = boulogne-billancourt\n",
      "Page en cours = 9\n",
      "Ville en cours = boulogne-billancourt\n",
      "Page en cours = 10\n",
      "Ville en cours = boulogne-billancourt\n",
      "Page en cours = 11\n",
      "Ville en cours = boulogne-billancourt\n",
      "Page en cours = 12\n",
      "Ville en cours = boulogne-billancourt\n",
      "Page en cours = 13\n",
      "Ville en cours = boulogne-billancourt\n",
      "Page en cours = 14\n",
      "Ville en cours = boulogne-billancourt\n",
      "Page en cours = 15\n",
      "Ville en cours = boulogne-billancourt\n",
      "Page en cours = 16\n",
      "Ville en cours = boulogne-billancourt\n",
      "Page en cours = 17\n",
      "Ville en cours = boulogne-billancourt\n",
      "Page en cours = 18\n",
      "Ville en cours = boulogne-billancourt\n",
      "Page en cours = 19\n",
      "Ville en cours = boulogne-billancourt\n",
      "Page en cours = 20\n",
      "Ville en cours = boulogne-billancourt\n",
      "Page en cours = 21\n",
      "Ville en cours = boulogne-billancourt\n",
      "Page en cours = 22\n",
      "Ville en cours = boulogne-billancourt\n",
      "Page en cours = 23\n",
      "Ville en cours = boulogne-billancourt\n",
      "Page en cours = 24\n",
      "Ville en cours = boulogne-billancourt\n",
      "Page en cours = 25\n",
      "Ville en cours = boulogne-billancourt\n",
      "Page en cours = 26\n",
      "Ville en cours = boulogne-billancourt\n",
      "Page en cours = 27\n",
      "Ville en cours = boulogne-billancourt\n",
      "Page en cours = 28\n",
      "Ville en cours = boulogne-billancourt\n",
      "Page en cours = 29\n",
      "Ville en cours = boulogne-billancourt\n",
      "Page en cours = 30\n",
      "Ville en cours = boulogne-billancourt\n",
      "Page en cours = 31\n",
      "Ville en cours = boulogne-billancourt\n",
      "Page en cours = 32\n",
      "Ville en cours = boulogne-billancourt\n",
      "Page en cours = 33\n",
      "Ville en cours = boulogne-billancourt\n",
      "Page en cours = 34\n",
      "Ville en cours = boulogne-billancourt\n",
      "Page en cours = 35\n",
      "Ville en cours = boulogne-billancourt\n",
      "Page en cours = 36\n",
      "Ville en cours = boulogne-billancourt\n",
      "Page en cours = 37\n",
      "Ville en cours = boulogne-billancourt\n",
      "Page en cours = 38\n",
      "Ville en cours = boulogne-billancourt\n",
      "Page en cours = 39\n",
      "Ville en cours = boulogne-billancourt\n",
      "Page en cours = 40\n",
      "Ville en cours = boulogne-billancourt\n",
      "Page en cours = 41\n",
      "Ville en cours = boulogne-billancourt\n",
      "Page en cours = 42\n",
      "Ville en cours = boulogne-billancourt\n",
      "Page en cours = 43\n",
      "Ville en cours = boulogne-billancourt\n",
      "Page en cours = 44\n",
      "Ville en cours = boulogne-billancourt\n",
      "Page en cours = 45\n",
      "Ville en cours = boulogne-billancourt\n",
      "Page en cours = 46\n",
      "Ville en cours = boulogne-billancourt\n",
      "Page en cours = 47\n",
      "Ville en cours = boulogne-billancourt\n",
      "Page en cours = 48\n",
      "Ville en cours = boulogne-billancourt\n",
      "Page en cours = 49\n",
      "Ville en cours = boulogne-billancourt\n",
      "Page en cours = 50\n",
      "Ville en cours = boulogne-billancourt\n",
      "Page en cours = 51\n",
      "Ville en cours = boulogne-billancourt\n",
      "Page en cours = 52\n",
      "Ville en cours = boulogne-billancourt\n",
      "Page en cours = 53\n",
      "Ville en cours = boulogne-billancourt\n",
      "Page en cours = 54\n",
      "Ville en cours = boulogne-billancourt\n",
      "Page en cours = 55\n",
      "Ville en cours = boulogne-billancourt\n",
      "Page en cours = 56\n",
      "Ville en cours = boulogne-billancourt\n",
      "Page en cours = 57\n",
      "Ville en cours = boulogne-billancourt\n",
      "Page en cours = 58\n",
      "Ville en cours = boulogne-billancourt\n",
      "Page en cours = 59\n",
      "Ville en cours = boulogne-billancourt\n",
      "Page en cours = 60\n",
      "Ville en cours = boulogne-billancourt\n",
      "Page en cours = 61\n",
      "Ville en cours = boulogne-billancourt\n",
      "Page en cours = 62\n",
      "Ville en cours = boulogne-billancourt\n",
      "Page en cours = 63\n",
      "Ville en cours = boulogne-billancourt\n",
      "Page en cours = 64\n"
     ]
    },
    {
     "data": {
      "text/plain": [
       "5928"
      ]
     },
     "execution_count": 6,
     "metadata": {},
     "output_type": "execute_result"
    },
    {
     "name": "stdout",
     "output_type": "stream",
     "text": [
      "Ville en cours = levallois-perret\n",
      "Page en cours = 1\n",
      "Ville en cours = levallois-perret\n",
      "Page en cours = 2\n",
      "Ville en cours = levallois-perret\n",
      "Page en cours = 3\n",
      "Ville en cours = levallois-perret\n",
      "Page en cours = 4\n",
      "Ville en cours = levallois-perret\n",
      "Page en cours = 5\n",
      "Ville en cours = levallois-perret\n",
      "Page en cours = 6\n",
      "Ville en cours = levallois-perret\n",
      "Page en cours = 7\n",
      "Ville en cours = levallois-perret\n",
      "Page en cours = 8\n",
      "Ville en cours = levallois-perret\n",
      "Page en cours = 9\n",
      "Ville en cours = levallois-perret\n",
      "Page en cours = 10\n",
      "Ville en cours = levallois-perret\n",
      "Page en cours = 11\n",
      "Ville en cours = levallois-perret\n",
      "Page en cours = 12\n",
      "Ville en cours = levallois-perret\n",
      "Page en cours = 13\n",
      "Ville en cours = levallois-perret\n",
      "Page en cours = 14\n",
      "Ville en cours = levallois-perret\n",
      "Page en cours = 15\n",
      "Ville en cours = levallois-perret\n",
      "Page en cours = 16\n",
      "Ville en cours = levallois-perret\n",
      "Page en cours = 17\n",
      "Ville en cours = levallois-perret\n",
      "Page en cours = 18\n",
      "Ville en cours = levallois-perret\n",
      "Page en cours = 19\n",
      "Ville en cours = levallois-perret\n",
      "Page en cours = 20\n",
      "Ville en cours = levallois-perret\n",
      "Page en cours = 21\n",
      "Ville en cours = levallois-perret\n",
      "Page en cours = 22\n",
      "Ville en cours = levallois-perret\n",
      "Page en cours = 23\n",
      "Ville en cours = levallois-perret\n",
      "Page en cours = 24\n",
      "Ville en cours = levallois-perret\n",
      "Page en cours = 25\n",
      "Ville en cours = levallois-perret\n",
      "Page en cours = 26\n",
      "Ville en cours = levallois-perret\n",
      "Page en cours = 27\n",
      "Ville en cours = levallois-perret\n",
      "Page en cours = 28\n",
      "Ville en cours = levallois-perret\n",
      "Page en cours = 29\n",
      "Ville en cours = levallois-perret\n",
      "Page en cours = 30\n",
      "Ville en cours = levallois-perret\n",
      "Page en cours = 31\n",
      "Ville en cours = levallois-perret\n",
      "Page en cours = 32\n",
      "Ville en cours = levallois-perret\n",
      "Page en cours = 33\n",
      "Ville en cours = levallois-perret\n",
      "Page en cours = 34\n",
      "Ville en cours = levallois-perret\n",
      "Page en cours = 35\n",
      "Ville en cours = levallois-perret\n",
      "Page en cours = 36\n",
      "Ville en cours = levallois-perret\n",
      "Page en cours = 37\n",
      "Ville en cours = levallois-perret\n",
      "Page en cours = 38\n",
      "Ville en cours = levallois-perret\n",
      "Page en cours = 39\n",
      "Ville en cours = levallois-perret\n",
      "Page en cours = 40\n",
      "Ville en cours = levallois-perret\n",
      "Page en cours = 41\n",
      "Ville en cours = levallois-perret\n",
      "Page en cours = 42\n",
      "Ville en cours = levallois-perret\n",
      "Page en cours = 43\n",
      "Ville en cours = levallois-perret\n",
      "Page en cours = 44\n",
      "Ville en cours = levallois-perret\n",
      "Page en cours = 45\n",
      "Ville en cours = levallois-perret\n",
      "Page en cours = 46\n",
      "Ville en cours = levallois-perret\n",
      "Page en cours = 47\n",
      "Ville en cours = levallois-perret\n",
      "Page en cours = 48\n",
      "Ville en cours = levallois-perret\n",
      "Page en cours = 49\n",
      "Ville en cours = levallois-perret\n",
      "Page en cours = 50\n",
      "Ville en cours = levallois-perret\n",
      "Page en cours = 51\n",
      "Ville en cours = levallois-perret\n",
      "Page en cours = 52\n",
      "Ville en cours = levallois-perret\n",
      "Page en cours = 53\n",
      "Ville en cours = levallois-perret\n",
      "Page en cours = 54\n",
      "Ville en cours = levallois-perret\n",
      "Page en cours = 55\n",
      "Ville en cours = levallois-perret\n",
      "Page en cours = 56\n",
      "Ville en cours = levallois-perret\n",
      "Page en cours = 57\n",
      "Ville en cours = levallois-perret\n",
      "Page en cours = 58\n",
      "Ville en cours = levallois-perret\n",
      "Page en cours = 59\n",
      "Ville en cours = levallois-perret\n",
      "Page en cours = 60\n",
      "Ville en cours = levallois-perret\n",
      "Page en cours = 61\n",
      "Ville en cours = levallois-perret\n",
      "Page en cours = 62\n",
      "Ville en cours = levallois-perret\n",
      "Page en cours = 63\n",
      "Ville en cours = levallois-perret\n",
      "Page en cours = 64\n",
      "Ville en cours = levallois-perret\n",
      "Page en cours = 65\n",
      "Ville en cours = levallois-perret\n",
      "Page en cours = 66\n",
      "Ville en cours = levallois-perret\n",
      "Page en cours = 67\n",
      "Ville en cours = levallois-perret\n",
      "Page en cours = 68\n",
      "Ville en cours = levallois-perret\n",
      "Page en cours = 69\n",
      "Ville en cours = levallois-perret\n",
      "Page en cours = 70\n",
      "Ville en cours = levallois-perret\n",
      "Page en cours = 71\n",
      "Ville en cours = levallois-perret\n",
      "Page en cours = 72\n",
      "Ville en cours = levallois-perret\n",
      "Page en cours = 73\n",
      "Ville en cours = levallois-perret\n",
      "Page en cours = 74\n",
      "Ville en cours = levallois-perret\n",
      "Page en cours = 75\n",
      "Ville en cours = levallois-perret\n",
      "Page en cours = 76\n",
      "Ville en cours = levallois-perret\n",
      "Page en cours = 77\n",
      "Ville en cours = levallois-perret\n",
      "Page en cours = 78\n"
     ]
    },
    {
     "data": {
      "text/plain": [
       "7207"
      ]
     },
     "execution_count": 6,
     "metadata": {},
     "output_type": "execute_result"
    },
    {
     "name": "stdout",
     "output_type": "stream",
     "text": [
      "Ville en cours = le-lavandou\n",
      "Page en cours = 1\n",
      "Ville en cours = le-lavandou\n",
      "Page en cours = 2\n",
      "Ville en cours = le-lavandou\n",
      "Page en cours = 3\n",
      "Ville en cours = le-lavandou\n",
      "Page en cours = 4\n",
      "Ville en cours = le-lavandou\n",
      "Page en cours = 5\n",
      "Ville en cours = le-lavandou\n",
      "Page en cours = 6\n"
     ]
    },
    {
     "data": {
      "text/plain": [
       "735"
      ]
     },
     "execution_count": 6,
     "metadata": {},
     "output_type": "execute_result"
    },
    {
     "name": "stdout",
     "output_type": "stream",
     "text": [
      "Ville en cours = colombes\n",
      "Page en cours = 1\n",
      "Ville en cours = colombes\n",
      "Page en cours = 2\n",
      "Ville en cours = colombes\n",
      "Page en cours = 3\n",
      "Ville en cours = colombes\n",
      "Page en cours = 4\n",
      "Ville en cours = colombes\n",
      "Page en cours = 5\n",
      "Ville en cours = colombes\n",
      "Page en cours = 6\n",
      "Ville en cours = colombes\n",
      "Page en cours = 7\n",
      "Ville en cours = colombes\n",
      "Page en cours = 8\n",
      "Ville en cours = colombes\n",
      "Page en cours = 9\n",
      "Ville en cours = colombes\n",
      "Page en cours = 10\n",
      "Ville en cours = colombes\n",
      "Page en cours = 11\n",
      "Ville en cours = colombes\n",
      "Page en cours = 12\n",
      "Ville en cours = colombes\n",
      "Page en cours = 13\n",
      "Ville en cours = colombes\n",
      "Page en cours = 14\n",
      "Ville en cours = colombes\n",
      "Page en cours = 15\n",
      "Ville en cours = colombes\n",
      "Page en cours = 16\n",
      "Ville en cours = colombes\n",
      "Page en cours = 17\n",
      "Ville en cours = colombes\n",
      "Page en cours = 18\n",
      "Ville en cours = colombes\n",
      "Page en cours = 19\n",
      "Ville en cours = colombes\n",
      "Page en cours = 20\n",
      "Ville en cours = colombes\n",
      "Page en cours = 21\n",
      "Ville en cours = colombes\n",
      "Page en cours = 22\n",
      "Ville en cours = colombes\n",
      "Page en cours = 23\n",
      "Ville en cours = colombes\n",
      "Page en cours = 24\n",
      "Ville en cours = colombes\n",
      "Page en cours = 25\n",
      "Ville en cours = colombes\n",
      "Page en cours = 26\n",
      "Ville en cours = colombes\n",
      "Page en cours = 27\n",
      "Ville en cours = colombes\n",
      "Page en cours = 28\n",
      "Ville en cours = colombes\n",
      "Page en cours = 29\n",
      "Ville en cours = colombes\n",
      "Page en cours = 30\n",
      "Ville en cours = colombes\n",
      "Page en cours = 31\n",
      "Ville en cours = colombes\n",
      "Page en cours = 32\n",
      "Ville en cours = colombes\n",
      "Page en cours = 33\n",
      "Ville en cours = colombes\n",
      "Page en cours = 34\n",
      "Ville en cours = colombes\n",
      "Page en cours = 35\n",
      "Ville en cours = colombes\n",
      "Page en cours = 36\n",
      "Ville en cours = colombes\n",
      "Page en cours = 37\n",
      "Ville en cours = colombes\n",
      "Page en cours = 38\n",
      "Ville en cours = colombes\n",
      "Page en cours = 39\n",
      "Ville en cours = colombes\n",
      "Page en cours = 40\n",
      "Ville en cours = colombes\n",
      "Page en cours = 41\n",
      "Ville en cours = colombes\n",
      "Page en cours = 42\n",
      "Ville en cours = colombes\n",
      "Page en cours = 43\n",
      "Ville en cours = colombes\n",
      "Page en cours = 44\n",
      "Ville en cours = colombes\n",
      "Page en cours = 45\n",
      "Ville en cours = colombes\n",
      "Page en cours = 46\n",
      "Ville en cours = colombes\n",
      "Page en cours = 47\n",
      "Ville en cours = colombes\n",
      "Page en cours = 48\n",
      "Ville en cours = colombes\n",
      "Page en cours = 49\n",
      "Ville en cours = colombes\n",
      "Page en cours = 50\n",
      "Ville en cours = colombes\n",
      "Page en cours = 51\n"
     ]
    },
    {
     "data": {
      "text/plain": [
       "4818"
      ]
     },
     "execution_count": 6,
     "metadata": {},
     "output_type": "execute_result"
    },
    {
     "name": "stdout",
     "output_type": "stream",
     "text": [
      "Ville en cours = la-rochelle\n",
      "Page en cours = 1\n",
      "Ville en cours = la-rochelle\n",
      "Page en cours = 2\n",
      "Ville en cours = la-rochelle\n",
      "Page en cours = 3\n",
      "Ville en cours = la-rochelle\n",
      "Page en cours = 4\n"
     ]
    },
    {
     "data": {
      "text/plain": [
       "494"
      ]
     },
     "execution_count": 6,
     "metadata": {},
     "output_type": "execute_result"
    },
    {
     "name": "stdout",
     "output_type": "stream",
     "text": [
      "Ville en cours = melun\n",
      "Page en cours = 1\n",
      "Ville en cours = melun\n",
      "Page en cours = 2\n",
      "Ville en cours = melun\n",
      "Page en cours = 3\n",
      "Ville en cours = melun\n",
      "Page en cours = 4\n",
      "Ville en cours = melun\n",
      "Page en cours = 5\n",
      "Ville en cours = melun\n",
      "Page en cours = 6\n",
      "Ville en cours = melun\n",
      "Page en cours = 7\n",
      "Ville en cours = melun\n",
      "Page en cours = 8\n",
      "Ville en cours = melun\n",
      "Page en cours = 9\n",
      "Ville en cours = melun\n",
      "Page en cours = 10\n"
     ]
    },
    {
     "data": {
      "text/plain": [
       "1002"
      ]
     },
     "execution_count": 6,
     "metadata": {},
     "output_type": "execute_result"
    },
    {
     "name": "stdout",
     "output_type": "stream",
     "text": [
      "Ville en cours = orleans\n",
      "Page en cours = 1\n",
      "Ville en cours = orleans\n",
      "Page en cours = 2\n"
     ]
    },
    {
     "data": {
      "text/plain": [
       "299"
      ]
     },
     "execution_count": 6,
     "metadata": {},
     "output_type": "execute_result"
    },
    {
     "name": "stdout",
     "output_type": "stream",
     "text": [
      "Ville en cours = saint-nazaire\n",
      "Page en cours = 1\n",
      "Ville en cours = saint-nazaire\n",
      "Page en cours = 2\n",
      "Ville en cours = saint-nazaire\n",
      "Page en cours = 3\n",
      "Ville en cours = saint-nazaire\n",
      "Page en cours = 4\n",
      "Ville en cours = saint-nazaire\n",
      "Page en cours = 5\n",
      "Ville en cours = saint-nazaire\n",
      "Page en cours = 6\n"
     ]
    },
    {
     "data": {
      "text/plain": [
       "718"
      ]
     },
     "execution_count": 6,
     "metadata": {},
     "output_type": "execute_result"
    },
    {
     "name": "stdout",
     "output_type": "stream",
     "text": [
      "Ville en cours = rueil-malmaison\n",
      "Page en cours = 1\n",
      "Ville en cours = rueil-malmaison\n",
      "Page en cours = 2\n",
      "Ville en cours = rueil-malmaison\n",
      "Page en cours = 3\n",
      "Ville en cours = rueil-malmaison\n",
      "Page en cours = 4\n",
      "Ville en cours = rueil-malmaison\n",
      "Page en cours = 5\n",
      "Ville en cours = rueil-malmaison\n",
      "Page en cours = 6\n",
      "Ville en cours = rueil-malmaison\n",
      "Page en cours = 7\n",
      "Ville en cours = rueil-malmaison\n",
      "Page en cours = 8\n",
      "Ville en cours = rueil-malmaison\n",
      "Page en cours = 9\n",
      "Ville en cours = rueil-malmaison\n",
      "Page en cours = 10\n",
      "Ville en cours = rueil-malmaison\n",
      "Page en cours = 11\n",
      "Ville en cours = rueil-malmaison\n",
      "Page en cours = 12\n",
      "Ville en cours = rueil-malmaison\n",
      "Page en cours = 13\n",
      "Ville en cours = rueil-malmaison\n",
      "Page en cours = 14\n",
      "Ville en cours = rueil-malmaison\n",
      "Page en cours = 15\n",
      "Ville en cours = rueil-malmaison\n",
      "Page en cours = 16\n",
      "Ville en cours = rueil-malmaison\n",
      "Page en cours = 17\n",
      "Ville en cours = rueil-malmaison\n",
      "Page en cours = 18\n",
      "Ville en cours = rueil-malmaison\n",
      "Page en cours = 19\n",
      "Ville en cours = rueil-malmaison\n",
      "Page en cours = 20\n",
      "Ville en cours = rueil-malmaison\n",
      "Page en cours = 21\n",
      "Ville en cours = rueil-malmaison\n",
      "Page en cours = 22\n",
      "Ville en cours = rueil-malmaison\n",
      "Page en cours = 23\n",
      "Ville en cours = rueil-malmaison\n",
      "Page en cours = 24\n",
      "Ville en cours = rueil-malmaison\n",
      "Page en cours = 25\n",
      "Ville en cours = rueil-malmaison\n",
      "Page en cours = 26\n",
      "Ville en cours = rueil-malmaison\n",
      "Page en cours = 27\n",
      "Ville en cours = rueil-malmaison\n",
      "Page en cours = 28\n",
      "Ville en cours = rueil-malmaison\n",
      "Page en cours = 29\n",
      "Ville en cours = rueil-malmaison\n",
      "Page en cours = 30\n",
      "Ville en cours = rueil-malmaison\n",
      "Page en cours = 31\n",
      "Ville en cours = rueil-malmaison\n",
      "Page en cours = 32\n",
      "Ville en cours = rueil-malmaison\n",
      "Page en cours = 33\n",
      "Ville en cours = rueil-malmaison\n",
      "Page en cours = 34\n",
      "Ville en cours = rueil-malmaison\n",
      "Page en cours = 35\n",
      "Ville en cours = rueil-malmaison\n",
      "Page en cours = 36\n",
      "Ville en cours = rueil-malmaison\n",
      "Page en cours = 37\n",
      "Ville en cours = rueil-malmaison\n",
      "Page en cours = 38\n",
      "Ville en cours = rueil-malmaison\n",
      "Page en cours = 39\n",
      "Ville en cours = rueil-malmaison\n",
      "Page en cours = 40\n",
      "Ville en cours = rueil-malmaison\n",
      "Page en cours = 41\n",
      "Ville en cours = rueil-malmaison\n",
      "Page en cours = 42\n",
      "Ville en cours = rueil-malmaison\n",
      "Page en cours = 43\n",
      "Ville en cours = rueil-malmaison\n",
      "Page en cours = 44\n",
      "Ville en cours = rueil-malmaison\n",
      "Page en cours = 45\n",
      "Ville en cours = rueil-malmaison\n",
      "Page en cours = 46\n",
      "Ville en cours = rueil-malmaison\n",
      "Page en cours = 47\n"
     ]
    },
    {
     "data": {
      "text/plain": [
       "4337"
      ]
     },
     "execution_count": 6,
     "metadata": {},
     "output_type": "execute_result"
    }
   ],
   "source": [
    "for ville in villes:\n",
    "    chefs = []\n",
    "    page = 1\n",
    "    dernierePagePlusUn = False\n",
    "    dernierePage = False\n",
    "    ville = ville.split('/')[-1] # prend la ville sans le lien\n",
    "    while not dernierePagePlusUn:\n",
    "    # while testFin(page):\n",
    "        print('Ville en cours = {}'.format(ville))\n",
    "        print('Page en cours = {}'.format(page))\n",
    "        more = getChefsVillePage(ville, page)\n",
    "        chefs.extend(more) \n",
    "        page += 1\n",
    "        if dernierePage :\n",
    "            dernierePagePlusUn = True\n",
    "        if not pageContainsSuite(ville, page):\n",
    "            dernierePage = True\n",
    "        time.sleep(2)\n",
    "    with open(\"{}{}.txt\".format(OUTPUT_PATH, ville), \"w\") as file:\n",
    "        file.write(\"\\n\".join(chefs))"
   ]
  },
  {
   "cell_type": "code",
   "execution_count": null,
   "metadata": {
    "collapsed": true
   },
   "outputs": [],
   "source": []
  },
  {
   "cell_type": "code",
   "execution_count": null,
   "metadata": {
    "collapsed": true
   },
   "outputs": [],
   "source": []
  }
 ],
 "metadata": {
  "kernelspec": {
   "display_name": "Python 3",
   "language": "python",
   "name": "python3"
  },
  "language_info": {
   "codemirror_mode": {
    "name": "ipython",
    "version": 3
   },
   "file_extension": ".py",
   "mimetype": "text/x-python",
   "name": "python",
   "nbconvert_exporter": "python",
   "pygments_lexer": "ipython3",
   "version": "3.6.2"
  }
 },
 "nbformat": 4,
 "nbformat_minor": 2
}
