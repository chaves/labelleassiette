{
 "cells": [
  {
   "cell_type": "code",
   "execution_count": null,
   "metadata": {
    "collapsed": true
   },
   "outputs": [],
   "source": [
    "from lxml import html\n",
    "import lxml\n",
    "import time\n",
    "import requests\n",
    "import pandas as pd\n",
    "import sqlite3\n",
    "import re"
   ]
  },
  {
   "cell_type": "code",
   "execution_count": null,
   "metadata": {
    "collapsed": true
   },
   "outputs": [],
   "source": [
    "date_jour = '2017-12-31'\n",
    "OUTPUT_PATH = '../_outputs/'\n",
    "database_file = OUTPUT_PATH + 'chefs_{}.db'.format(date_jour)\n",
    "conn = sqlite3.connect(database_file)"
   ]
  },
  {
   "cell_type": "code",
   "execution_count": null,
   "metadata": {},
   "outputs": [],
   "source": [
    "df_source = pd.read_sql_query(\"select * from index_chefs;\", conn)\n",
    "df_source.head()"
   ]
  },
  {
   "cell_type": "code",
   "execution_count": null,
   "metadata": {
    "collapsed": true
   },
   "outputs": [],
   "source": [
    "def getChefPage(chef_id):\n",
    "    url = 'https://labelleassiette.fr/' + chef_id\n",
    "    response = requests.get(url)\n",
    "    content_source = response.text\n",
    "    return [chef_id, html.document_fromstring(content_source)]"
   ]
  },
  {
   "cell_type": "code",
   "execution_count": null,
   "metadata": {},
   "outputs": [],
   "source": [
    "docs = []\n",
    "for index, row in df_source.iterrows():\n",
    "    docs.append(getChefPage(row['chef']))"
   ]
  },
  {
   "cell_type": "code",
   "execution_count": null,
   "metadata": {},
   "outputs": [],
   "source": [
    "len(docs)"
   ]
  },
  {
   "cell_type": "code",
   "execution_count": null,
   "metadata": {},
   "outputs": [],
   "source": [
    "docs[0][1]"
   ]
  },
  {
   "cell_type": "code",
   "execution_count": null,
   "metadata": {
    "collapsed": true
   },
   "outputs": [],
   "source": [
    "# https://stackoverflow.com/questions/6937525/escaping-xpath-literal-with-python\n",
    "def toXPathStringLiteral(s):\n",
    "    if \"'\" not in s: return \"'%s'\" % s\n",
    "    if '\"' not in s: return '\"%s\"' % s\n",
    "    return \"concat('%s')\" % s.replace(\"'\", \"',\\\"'\\\",'\")"
   ]
  },
  {
   "cell_type": "code",
   "execution_count": null,
   "metadata": {
    "collapsed": true
   },
   "outputs": [],
   "source": [
    "def get_rows(doc):\n",
    "    \n",
    "    menus = doc.xpath('//h3[@class=\"menu-title\"]/text()')\n",
    "    \n",
    "    descriptions = doc.xpath('//p[@class=\"menu-resume extract\"]/text()')\n",
    "    \n",
    "    tags = []\n",
    "    descriptions = []\n",
    "    \n",
    "    for m in menus:\n",
    "        if(m):\n",
    "            tags.append(\n",
    "                doc.xpath(\n",
    "                    '//h3[text()=%s]/following-sibling::ul[@class=\"tags\"]/li/text()' \n",
    "                    % toXPathStringLiteral(m)\n",
    "                )\n",
    "            )\n",
    "            \n",
    "            descriptions.append(\n",
    "                doc.xpath(\n",
    "                    '//h3[text()=%s]/../following-sibling::div[@class=\"menu-details full\"]//p[@class=\"dish\"]/text()' \n",
    "                    % toXPathStringLiteral(m)\n",
    "                )\n",
    "            )\n",
    "        \n",
    "        else:\n",
    "            tags.append('NA')\n",
    "    \n",
    "    scripts = doc.findall('.//script')\n",
    "    prices = []\n",
    "    item = 0\n",
    "    for s in scripts:\n",
    "        if 'chef.menus[{}]'.format(item) in s.text_content():\n",
    "            prices.append(s.text_content())\n",
    "            item += 1  \n",
    "    # print(prices[1])\n",
    "    return menus, descriptions, tags, prices"
   ]
  },
  {
   "cell_type": "code",
   "execution_count": null,
   "metadata": {
    "collapsed": true
   },
   "outputs": [],
   "source": [
    "columns = ['chef', 'menu', 'description', 'tags', 'prices']\n",
    "df_output = pd.DataFrame(columns=columns)"
   ]
  },
  {
   "cell_type": "code",
   "execution_count": null,
   "metadata": {
    "collapsed": true
   },
   "outputs": [],
   "source": [
    "idx = 0\n",
    "for doc in docs:\n",
    "    menus, descriptions, tags, prices = get_rows(doc[1])\n",
    "    chef = doc[0]\n",
    "    # print(chef)\n",
    "    idxm = 0\n",
    "    for m in menus:\n",
    "        # print(m)\n",
    "        df_output.loc[idx] = [chef, m, descriptions[idxm], tags[idxm], prices[idxm]]\n",
    "        idx +=1\n",
    "        idxm +=1"
   ]
  },
  {
   "cell_type": "code",
   "execution_count": null,
   "metadata": {},
   "outputs": [],
   "source": [
    "df_output.head(50)"
   ]
  },
  {
   "cell_type": "code",
   "execution_count": null,
   "metadata": {
    "collapsed": true
   },
   "outputs": [],
   "source": [
    "df_output.to_excel(OUTPUT_PATH + 'chefs_{}_menus.xlsx'.format(date_jour), index=False, header=True)"
   ]
  },
  {
   "cell_type": "code",
   "execution_count": null,
   "metadata": {
    "collapsed": true
   },
   "outputs": [],
   "source": []
  }
 ],
 "metadata": {
  "kernelspec": {
   "display_name": "Python 3",
   "language": "python",
   "name": "python3"
  },
  "language_info": {
   "codemirror_mode": {
    "name": "ipython",
    "version": 3
   },
   "file_extension": ".py",
   "mimetype": "text/x-python",
   "name": "python",
   "nbconvert_exporter": "python",
   "pygments_lexer": "ipython3",
   "version": "3.6.2"
  }
 },
 "nbformat": 4,
 "nbformat_minor": 2
}
