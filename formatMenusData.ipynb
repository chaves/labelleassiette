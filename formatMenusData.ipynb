{
 "cells": [
  {
   "cell_type": "code",
   "execution_count": 1,
   "metadata": {
    "collapsed": true
   },
   "outputs": [],
   "source": [
    "import pandas as pd\n",
    "import re\n",
    "date_jour = '2017-12-31'\n",
    "OUTPUT_PATH = '../_outputs/'"
   ]
  },
  {
   "cell_type": "code",
   "execution_count": 2,
   "metadata": {
    "collapsed": true
   },
   "outputs": [],
   "source": [
    "df = pd.read_excel(OUTPUT_PATH + 'chefs_{}_menus.xlsx'.format(date_jour))"
   ]
  },
  {
   "cell_type": "code",
   "execution_count": 3,
   "metadata": {},
   "outputs": [
    {
     "data": {
      "text/html": [
       "<div>\n",
       "<style>\n",
       "    .dataframe thead tr:only-child th {\n",
       "        text-align: right;\n",
       "    }\n",
       "\n",
       "    .dataframe thead th {\n",
       "        text-align: left;\n",
       "    }\n",
       "\n",
       "    .dataframe tbody tr th {\n",
       "        vertical-align: top;\n",
       "    }\n",
       "</style>\n",
       "<table border=\"1\" class=\"dataframe\">\n",
       "  <thead>\n",
       "    <tr style=\"text-align: right;\">\n",
       "      <th></th>\n",
       "      <th>chef</th>\n",
       "      <th>menu</th>\n",
       "      <th>description</th>\n",
       "      <th>tags</th>\n",
       "      <th>prices</th>\n",
       "    </tr>\n",
       "  </thead>\n",
       "  <tbody>\n",
       "    <tr>\n",
       "      <th>0</th>\n",
       "      <td>florent-gouverneur</td>\n",
       "      <td>Cocktail Dinatoire</td>\n",
       "      <td>['\\nMini burgers\\n', '\\nMini Croque-Monsieur\\n...</td>\n",
       "      <td>['Moderne', 'Français', 'Bio', 'Végétalien', '...</td>\n",
       "      <td>chef.menus[0]={prices:[],defaultPrice:'0'};che...</td>\n",
       "    </tr>\n",
       "    <tr>\n",
       "      <th>1</th>\n",
       "      <td>florent-gouverneur</td>\n",
       "      <td>Du Vert Au Vers</td>\n",
       "      <td>['\\nCrémeux potiron aux éclats de noisettes et...</td>\n",
       "      <td>[]</td>\n",
       "      <td>chef.menus[1]={prices:[],defaultPrice:'0'};che...</td>\n",
       "    </tr>\n",
       "  </tbody>\n",
       "</table>\n",
       "</div>"
      ],
      "text/plain": [
       "                 chef                 menu  \\\n",
       "0  florent-gouverneur  Cocktail Dinatoire    \n",
       "1  florent-gouverneur      Du Vert Au Vers   \n",
       "\n",
       "                                         description  \\\n",
       "0  ['\\nMini burgers\\n', '\\nMini Croque-Monsieur\\n...   \n",
       "1  ['\\nCrémeux potiron aux éclats de noisettes et...   \n",
       "\n",
       "                                                tags  \\\n",
       "0  ['Moderne', 'Français', 'Bio', 'Végétalien', '...   \n",
       "1                                                 []   \n",
       "\n",
       "                                              prices  \n",
       "0  chef.menus[0]={prices:[],defaultPrice:'0'};che...  \n",
       "1  chef.menus[1]={prices:[],defaultPrice:'0'};che...  "
      ]
     },
     "execution_count": 3,
     "metadata": {},
     "output_type": "execute_result"
    }
   ],
   "source": [
    "df.head(2)"
   ]
  },
  {
   "cell_type": "code",
   "execution_count": 4,
   "metadata": {},
   "outputs": [
    {
     "data": {
      "text/plain": [
       "\"chef.menus[2]={prices:[],defaultPrice:'0'};chef.menus[2].prices.push({from:2,to:2,ppp:111});chef.menus[2].prices.push({from:3,to:3,ppp:74});chef.menus[2].prices.push({from:4,to:4,ppp:56});chef.menus[2].prices.push({from:5,to:5,ppp:49});chef.menus[2].prices.push({from:6,to:999,ppp:49});\""
      ]
     },
     "execution_count": 4,
     "metadata": {},
     "output_type": "execute_result"
    }
   ],
   "source": [
    "test = df['prices'][9]\n",
    "test"
   ]
  },
  {
   "cell_type": "code",
   "execution_count": 5,
   "metadata": {},
   "outputs": [
    {
     "data": {
      "text/plain": [
       "[('2', '2', '111'),\n",
       " ('3', '3', '74'),\n",
       " ('4', '4', '56'),\n",
       " ('5', '5', '49'),\n",
       " ('6', '999', '49')]"
      ]
     },
     "execution_count": 5,
     "metadata": {},
     "output_type": "execute_result"
    }
   ],
   "source": [
    "# Patern pour prendre les prix\n",
    "prices_pattern = re.compile(r\"from:(\\d),to:(\\d+),ppp:(\\d+)\", re.IGNORECASE | re.DOTALL)\n",
    "out = prices_pattern.findall(test)\n",
    "out"
   ]
  },
  {
   "cell_type": "code",
   "execution_count": 6,
   "metadata": {},
   "outputs": [],
   "source": [
    "def prices(texte,rank):\n",
    "    prices = prices_pattern.findall(texte)\n",
    "    try:\n",
    "        output = prices[rank][2]\n",
    "    except:\n",
    "        output = ''\n",
    "    return output\n",
    "\n",
    "def prices2(texte):\n",
    "    return prices(texte,0)\n",
    "\n",
    "def prices3(texte):\n",
    "    return prices(texte,1)\n",
    "\n",
    "def prices4(texte):\n",
    "    return prices(texte,2)\n",
    "\n",
    "def prices5(texte):\n",
    "    return prices(texte,3)\n",
    "\n",
    "def prices6(texte):\n",
    "    return prices(texte,4)"
   ]
  },
  {
   "cell_type": "code",
   "execution_count": 7,
   "metadata": {},
   "outputs": [],
   "source": [
    "df['prices_2'] = df['prices'].apply(prices2)\n",
    "df['prices_3'] = df['prices'].apply(prices3)\n",
    "df['prices_4'] = df['prices'].apply(prices4)\n",
    "df['prices_5'] = df['prices'].apply(prices5)\n",
    "df['prices_6+'] = df['prices'].apply(prices6)"
   ]
  },
  {
   "cell_type": "code",
   "execution_count": 8,
   "metadata": {},
   "outputs": [
    {
     "data": {
      "text/html": [
       "<div>\n",
       "<style>\n",
       "    .dataframe thead tr:only-child th {\n",
       "        text-align: right;\n",
       "    }\n",
       "\n",
       "    .dataframe thead th {\n",
       "        text-align: left;\n",
       "    }\n",
       "\n",
       "    .dataframe tbody tr th {\n",
       "        vertical-align: top;\n",
       "    }\n",
       "</style>\n",
       "<table border=\"1\" class=\"dataframe\">\n",
       "  <thead>\n",
       "    <tr style=\"text-align: right;\">\n",
       "      <th></th>\n",
       "      <th>chef</th>\n",
       "      <th>menu</th>\n",
       "      <th>description</th>\n",
       "      <th>tags</th>\n",
       "      <th>prices</th>\n",
       "      <th>prices_2</th>\n",
       "      <th>prices_3</th>\n",
       "      <th>prices_4</th>\n",
       "      <th>prices_5</th>\n",
       "      <th>prices_6+</th>\n",
       "    </tr>\n",
       "  </thead>\n",
       "  <tbody>\n",
       "    <tr>\n",
       "      <th>0</th>\n",
       "      <td>florent-gouverneur</td>\n",
       "      <td>Cocktail Dinatoire</td>\n",
       "      <td>['\\nMini burgers\\n', '\\nMini Croque-Monsieur\\n...</td>\n",
       "      <td>['Moderne', 'Français', 'Bio', 'Végétalien', '...</td>\n",
       "      <td>chef.menus[0]={prices:[],defaultPrice:'0'};che...</td>\n",
       "      <td>35</td>\n",
       "      <td>35</td>\n",
       "      <td>35</td>\n",
       "      <td>35</td>\n",
       "      <td>35</td>\n",
       "    </tr>\n",
       "    <tr>\n",
       "      <th>1</th>\n",
       "      <td>florent-gouverneur</td>\n",
       "      <td>Du Vert Au Vers</td>\n",
       "      <td>['\\nCrémeux potiron aux éclats de noisettes et...</td>\n",
       "      <td>[]</td>\n",
       "      <td>chef.menus[1]={prices:[],defaultPrice:'0'};che...</td>\n",
       "      <td>147</td>\n",
       "      <td>98</td>\n",
       "      <td>74</td>\n",
       "      <td>59</td>\n",
       "      <td>49</td>\n",
       "    </tr>\n",
       "    <tr>\n",
       "      <th>2</th>\n",
       "      <td>florent-gouverneur</td>\n",
       "      <td>Menu Découverte</td>\n",
       "      <td>[\"\\nTartare de crevettes et gelée d'agrumes\\n\"...</td>\n",
       "      <td>['Moderne', 'Français', 'Bio', 'Sans Gluten', ...</td>\n",
       "      <td>chef.menus[2]={prices:[],defaultPrice:'0'};che...</td>\n",
       "      <td>123</td>\n",
       "      <td>82</td>\n",
       "      <td>62</td>\n",
       "      <td>49</td>\n",
       "      <td>49</td>\n",
       "    </tr>\n",
       "    <tr>\n",
       "      <th>3</th>\n",
       "      <td>florent-gouverneur</td>\n",
       "      <td>Menu Herbacé</td>\n",
       "      <td>[\"\\nFilet de maquereau en escabèche, et coulis...</td>\n",
       "      <td>['Français', 'Automne', 'Moderne']</td>\n",
       "      <td>chef.menus[3]={prices:[],defaultPrice:'0'};che...</td>\n",
       "      <td>123</td>\n",
       "      <td>82</td>\n",
       "      <td>62</td>\n",
       "      <td>49</td>\n",
       "      <td>49</td>\n",
       "    </tr>\n",
       "    <tr>\n",
       "      <th>4</th>\n",
       "      <td>florent-gouverneur</td>\n",
       "      <td>Menu Automnal</td>\n",
       "      <td>['\\nMéli-mélo de choux-fleurs orange girolles ...</td>\n",
       "      <td>['Sans Gluten', 'Végétarien', 'Poisson', 'Vian...</td>\n",
       "      <td>chef.menus[4]={prices:[],defaultPrice:'0'};che...</td>\n",
       "      <td>123</td>\n",
       "      <td>82</td>\n",
       "      <td>62</td>\n",
       "      <td>49</td>\n",
       "      <td>49</td>\n",
       "    </tr>\n",
       "  </tbody>\n",
       "</table>\n",
       "</div>"
      ],
      "text/plain": [
       "                 chef                 menu  \\\n",
       "0  florent-gouverneur  Cocktail Dinatoire    \n",
       "1  florent-gouverneur      Du Vert Au Vers   \n",
       "2  florent-gouverneur      Menu Découverte   \n",
       "3  florent-gouverneur         Menu Herbacé   \n",
       "4  florent-gouverneur        Menu Automnal   \n",
       "\n",
       "                                         description  \\\n",
       "0  ['\\nMini burgers\\n', '\\nMini Croque-Monsieur\\n...   \n",
       "1  ['\\nCrémeux potiron aux éclats de noisettes et...   \n",
       "2  [\"\\nTartare de crevettes et gelée d'agrumes\\n\"...   \n",
       "3  [\"\\nFilet de maquereau en escabèche, et coulis...   \n",
       "4  ['\\nMéli-mélo de choux-fleurs orange girolles ...   \n",
       "\n",
       "                                                tags  \\\n",
       "0  ['Moderne', 'Français', 'Bio', 'Végétalien', '...   \n",
       "1                                                 []   \n",
       "2  ['Moderne', 'Français', 'Bio', 'Sans Gluten', ...   \n",
       "3                 ['Français', 'Automne', 'Moderne']   \n",
       "4  ['Sans Gluten', 'Végétarien', 'Poisson', 'Vian...   \n",
       "\n",
       "                                              prices prices_2 prices_3  \\\n",
       "0  chef.menus[0]={prices:[],defaultPrice:'0'};che...       35       35   \n",
       "1  chef.menus[1]={prices:[],defaultPrice:'0'};che...      147       98   \n",
       "2  chef.menus[2]={prices:[],defaultPrice:'0'};che...      123       82   \n",
       "3  chef.menus[3]={prices:[],defaultPrice:'0'};che...      123       82   \n",
       "4  chef.menus[4]={prices:[],defaultPrice:'0'};che...      123       82   \n",
       "\n",
       "  prices_4 prices_5 prices_6+  \n",
       "0       35       35        35  \n",
       "1       74       59        49  \n",
       "2       62       49        49  \n",
       "3       62       49        49  \n",
       "4       62       49        49  "
      ]
     },
     "execution_count": 8,
     "metadata": {},
     "output_type": "execute_result"
    }
   ],
   "source": [
    "df.head()"
   ]
  },
  {
   "cell_type": "code",
   "execution_count": 9,
   "metadata": {},
   "outputs": [],
   "source": [
    "df.drop('prices', axis=1, inplace=True)"
   ]
  },
  {
   "cell_type": "code",
   "execution_count": 10,
   "metadata": {},
   "outputs": [
    {
     "data": {
      "text/html": [
       "<div>\n",
       "<style>\n",
       "    .dataframe thead tr:only-child th {\n",
       "        text-align: right;\n",
       "    }\n",
       "\n",
       "    .dataframe thead th {\n",
       "        text-align: left;\n",
       "    }\n",
       "\n",
       "    .dataframe tbody tr th {\n",
       "        vertical-align: top;\n",
       "    }\n",
       "</style>\n",
       "<table border=\"1\" class=\"dataframe\">\n",
       "  <thead>\n",
       "    <tr style=\"text-align: right;\">\n",
       "      <th></th>\n",
       "      <th>chef</th>\n",
       "      <th>menu</th>\n",
       "      <th>description</th>\n",
       "      <th>tags</th>\n",
       "      <th>prices_2</th>\n",
       "      <th>prices_3</th>\n",
       "      <th>prices_4</th>\n",
       "      <th>prices_5</th>\n",
       "      <th>prices_6+</th>\n",
       "    </tr>\n",
       "  </thead>\n",
       "  <tbody>\n",
       "    <tr>\n",
       "      <th>0</th>\n",
       "      <td>florent-gouverneur</td>\n",
       "      <td>Cocktail Dinatoire</td>\n",
       "      <td>['\\nMini burgers\\n', '\\nMini Croque-Monsieur\\n...</td>\n",
       "      <td>['Moderne', 'Français', 'Bio', 'Végétalien', '...</td>\n",
       "      <td>35</td>\n",
       "      <td>35</td>\n",
       "      <td>35</td>\n",
       "      <td>35</td>\n",
       "      <td>35</td>\n",
       "    </tr>\n",
       "    <tr>\n",
       "      <th>1</th>\n",
       "      <td>florent-gouverneur</td>\n",
       "      <td>Du Vert Au Vers</td>\n",
       "      <td>['\\nCrémeux potiron aux éclats de noisettes et...</td>\n",
       "      <td>[]</td>\n",
       "      <td>147</td>\n",
       "      <td>98</td>\n",
       "      <td>74</td>\n",
       "      <td>59</td>\n",
       "      <td>49</td>\n",
       "    </tr>\n",
       "  </tbody>\n",
       "</table>\n",
       "</div>"
      ],
      "text/plain": [
       "                 chef                 menu  \\\n",
       "0  florent-gouverneur  Cocktail Dinatoire    \n",
       "1  florent-gouverneur      Du Vert Au Vers   \n",
       "\n",
       "                                         description  \\\n",
       "0  ['\\nMini burgers\\n', '\\nMini Croque-Monsieur\\n...   \n",
       "1  ['\\nCrémeux potiron aux éclats de noisettes et...   \n",
       "\n",
       "                                                tags prices_2 prices_3  \\\n",
       "0  ['Moderne', 'Français', 'Bio', 'Végétalien', '...       35       35   \n",
       "1                                                 []      147       98   \n",
       "\n",
       "  prices_4 prices_5 prices_6+  \n",
       "0       35       35        35  \n",
       "1       74       59        49  "
      ]
     },
     "execution_count": 10,
     "metadata": {},
     "output_type": "execute_result"
    }
   ],
   "source": [
    "df.head(2)"
   ]
  },
  {
   "cell_type": "code",
   "execution_count": 11,
   "metadata": {},
   "outputs": [
    {
     "data": {
      "text/html": [
       "<div>\n",
       "<style>\n",
       "    .dataframe thead tr:only-child th {\n",
       "        text-align: right;\n",
       "    }\n",
       "\n",
       "    .dataframe thead th {\n",
       "        text-align: left;\n",
       "    }\n",
       "\n",
       "    .dataframe tbody tr th {\n",
       "        vertical-align: top;\n",
       "    }\n",
       "</style>\n",
       "<table border=\"1\" class=\"dataframe\">\n",
       "  <thead>\n",
       "    <tr style=\"text-align: right;\">\n",
       "      <th></th>\n",
       "      <th>chef</th>\n",
       "      <th>menu</th>\n",
       "      <th>description</th>\n",
       "      <th>tags</th>\n",
       "      <th>prices_2</th>\n",
       "      <th>prices_3</th>\n",
       "      <th>prices_4</th>\n",
       "      <th>prices_5</th>\n",
       "      <th>prices_6+</th>\n",
       "    </tr>\n",
       "  </thead>\n",
       "  <tbody>\n",
       "    <tr>\n",
       "      <th>0</th>\n",
       "      <td>florent-gouverneur</td>\n",
       "      <td>Cocktail Dinatoire</td>\n",
       "      <td>['Mini burgers', 'Mini Croque-Monsieur', 'Mini...</td>\n",
       "      <td>['Moderne', 'Français', 'Bio', 'Végétalien', '...</td>\n",
       "      <td>35</td>\n",
       "      <td>35</td>\n",
       "      <td>35</td>\n",
       "      <td>35</td>\n",
       "      <td>35</td>\n",
       "    </tr>\n",
       "    <tr>\n",
       "      <th>1</th>\n",
       "      <td>florent-gouverneur</td>\n",
       "      <td>Du Vert Au Vers</td>\n",
       "      <td>['Crémeux potiron aux éclats de noisettes et g...</td>\n",
       "      <td>[]</td>\n",
       "      <td>147</td>\n",
       "      <td>98</td>\n",
       "      <td>74</td>\n",
       "      <td>59</td>\n",
       "      <td>49</td>\n",
       "    </tr>\n",
       "  </tbody>\n",
       "</table>\n",
       "</div>"
      ],
      "text/plain": [
       "                 chef                 menu  \\\n",
       "0  florent-gouverneur  Cocktail Dinatoire    \n",
       "1  florent-gouverneur      Du Vert Au Vers   \n",
       "\n",
       "                                         description  \\\n",
       "0  ['Mini burgers', 'Mini Croque-Monsieur', 'Mini...   \n",
       "1  ['Crémeux potiron aux éclats de noisettes et g...   \n",
       "\n",
       "                                                tags prices_2 prices_3  \\\n",
       "0  ['Moderne', 'Français', 'Bio', 'Végétalien', '...       35       35   \n",
       "1                                                 []      147       98   \n",
       "\n",
       "  prices_4 prices_5 prices_6+  \n",
       "0       35       35        35  \n",
       "1       74       59        49  "
      ]
     },
     "execution_count": 11,
     "metadata": {},
     "output_type": "execute_result"
    }
   ],
   "source": [
    "# On supprimpe les sauts de ligne\n",
    "def sautsLigne(texte):\n",
    "    texte = str(texte)\n",
    "    return texte.replace('\\\\n','')\n",
    "df['description'] = df['description'].apply(sautsLigne)\n",
    "df.head(2)"
   ]
  },
  {
   "cell_type": "code",
   "execution_count": 12,
   "metadata": {},
   "outputs": [],
   "source": [
    "df.to_excel(OUTPUT_PATH + 'chefs_{}_menus_clean.xlsx'.format(date_jour), index=False, header=True)"
   ]
  },
  {
   "cell_type": "code",
   "execution_count": null,
   "metadata": {
    "collapsed": true
   },
   "outputs": [],
   "source": []
  },
  {
   "cell_type": "code",
   "execution_count": null,
   "metadata": {
    "collapsed": true
   },
   "outputs": [],
   "source": []
  }
 ],
 "metadata": {
  "kernelspec": {
   "display_name": "Python 3",
   "language": "python",
   "name": "python3"
  },
  "language_info": {
   "codemirror_mode": {
    "name": "ipython",
    "version": 3
   },
   "file_extension": ".py",
   "mimetype": "text/x-python",
   "name": "python",
   "nbconvert_exporter": "python",
   "pygments_lexer": "ipython3",
   "version": "3.6.2"
  }
 },
 "nbformat": 4,
 "nbformat_minor": 2
}
