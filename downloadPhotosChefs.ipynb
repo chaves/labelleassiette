{
 "cells": [
  {
   "cell_type": "code",
   "execution_count": 1,
   "metadata": {},
   "outputs": [],
   "source": [
    "import pandas as pd\n",
    "import re\n",
    "date_jour = '2017-12-31'\n",
    "OUTPUT_PATH = '../_outputs/'\n",
    "OUTPUT_PHOTOS = '../_outputs/photos/'"
   ]
  },
  {
   "cell_type": "code",
   "execution_count": 2,
   "metadata": {},
   "outputs": [],
   "source": [
    "df = pd.read_excel(OUTPUT_PATH + 'chefs_{}_details.xlsx'.format(date_jour))"
   ]
  },
  {
   "cell_type": "code",
   "execution_count": 3,
   "metadata": {},
   "outputs": [
    {
     "data": {
      "text/html": [
       "<div>\n",
       "<style>\n",
       "    .dataframe thead tr:only-child th {\n",
       "        text-align: right;\n",
       "    }\n",
       "\n",
       "    .dataframe thead th {\n",
       "        text-align: left;\n",
       "    }\n",
       "\n",
       "    .dataframe tbody tr th {\n",
       "        vertical-align: top;\n",
       "    }\n",
       "</style>\n",
       "<table border=\"1\" class=\"dataframe\">\n",
       "  <thead>\n",
       "    <tr style=\"text-align: right;\">\n",
       "      <th></th>\n",
       "      <th>chef</th>\n",
       "      <th>total</th>\n",
       "      <th>nom</th>\n",
       "      <th>photo</th>\n",
       "      <th>valide</th>\n",
       "      <th>texte_intro</th>\n",
       "      <th>note</th>\n",
       "      <th>avis_nb</th>\n",
       "      <th>a_propos</th>\n",
       "      <th>zone_ville</th>\n",
       "      <th>zone_pays_code</th>\n",
       "      <th>langues</th>\n",
       "      <th>cuisines_types</th>\n",
       "      <th>questions</th>\n",
       "    </tr>\n",
       "  </thead>\n",
       "  <tbody>\n",
       "    <tr>\n",
       "      <th>0</th>\n",
       "      <td>florent-gouverneur</td>\n",
       "      <td>14</td>\n",
       "      <td>Florent Gouverneur</td>\n",
       "      <td>https://assets3.labelleassiette.com/media/prof...</td>\n",
       "      <td>OUI</td>\n",
       "      <td>Amoureux de la gastronomie</td>\n",
       "      <td>4.333333</td>\n",
       "      <td>9</td>\n",
       "      <td>Après une formation au lycée hôtelier de Metz,...</td>\n",
       "      <td>Lyon, France</td>\n",
       "      <td>FR</td>\n",
       "      <td>\\nFrançais\\n</td>\n",
       "      <td>['Bio', 'Cocktails', 'Chef étoilé', 'Brunch', ...</td>\n",
       "      <td>['Ma cuisine est fonction de la saisonnalité, ...</td>\n",
       "    </tr>\n",
       "    <tr>\n",
       "      <th>1</th>\n",
       "      <td>arnaud-bulliot</td>\n",
       "      <td>16</td>\n",
       "      <td>Arnaud Bulliot</td>\n",
       "      <td>https://assets3.labelleassiette.com/media/prof...</td>\n",
       "      <td>OUI</td>\n",
       "      <td>Les plaisirs de la table à partager !</td>\n",
       "      <td>4.207317</td>\n",
       "      <td>82</td>\n",
       "      <td>Issue d’une formation hôtelière en région pari...</td>\n",
       "      <td>Lyon, France</td>\n",
       "      <td>FR</td>\n",
       "      <td>\\nFrançais\\n</td>\n",
       "      <td>['Cocktails', 'Brunch', 'Gastronomique', 'Fami...</td>\n",
       "      <td>['Cuisine savoureuse, simple et raffinée', 'Po...</td>\n",
       "    </tr>\n",
       "  </tbody>\n",
       "</table>\n",
       "</div>"
      ],
      "text/plain": [
       "                 chef  total                 nom  \\\n",
       "0  florent-gouverneur     14  Florent Gouverneur   \n",
       "1      arnaud-bulliot     16      Arnaud Bulliot   \n",
       "\n",
       "                                               photo valide  \\\n",
       "0  https://assets3.labelleassiette.com/media/prof...    OUI   \n",
       "1  https://assets3.labelleassiette.com/media/prof...    OUI   \n",
       "\n",
       "                             texte_intro      note  avis_nb  \\\n",
       "0             Amoureux de la gastronomie  4.333333        9   \n",
       "1  Les plaisirs de la table à partager !  4.207317       82   \n",
       "\n",
       "                                            a_propos    zone_ville  \\\n",
       "0  Après une formation au lycée hôtelier de Metz,...  Lyon, France   \n",
       "1  Issue d’une formation hôtelière en région pari...  Lyon, France   \n",
       "\n",
       "  zone_pays_code       langues  \\\n",
       "0             FR  \\nFrançais\\n   \n",
       "1             FR  \\nFrançais\\n   \n",
       "\n",
       "                                      cuisines_types  \\\n",
       "0  ['Bio', 'Cocktails', 'Chef étoilé', 'Brunch', ...   \n",
       "1  ['Cocktails', 'Brunch', 'Gastronomique', 'Fami...   \n",
       "\n",
       "                                           questions  \n",
       "0  ['Ma cuisine est fonction de la saisonnalité, ...  \n",
       "1  ['Cuisine savoureuse, simple et raffinée', 'Po...  "
      ]
     },
     "execution_count": 3,
     "metadata": {},
     "output_type": "execute_result"
    }
   ],
   "source": [
    "df.head(2)"
   ]
  },
  {
   "cell_type": "code",
   "execution_count": 4,
   "metadata": {},
   "outputs": [
    {
     "data": {
      "text/plain": [
       "'https://assets3.labelleassiette.com/media/profile/profilpic_large_149675525412336f431acc915a1f6779d713b2ecde422.jpg'"
      ]
     },
     "execution_count": 4,
     "metadata": {},
     "output_type": "execute_result"
    }
   ],
   "source": [
    "df['photo'][0]"
   ]
  },
  {
   "cell_type": "code",
   "execution_count": 5,
   "metadata": {},
   "outputs": [],
   "source": [
    "import requests\n",
    "def downloadPhoto(url,chef):\n",
    "    r = requests.get(url)\n",
    "    with open(OUTPUT_PHOTOS + chef + '.jpg', 'wb') as f:  \n",
    "        f.write(r.content)"
   ]
  },
  {
   "cell_type": "code",
   "execution_count": 7,
   "metadata": {},
   "outputs": [],
   "source": [
    "for index, row in df.iterrows():\n",
    "    downloadPhoto(row['photo'],row['chef'])"
   ]
  },
  {
   "cell_type": "code",
   "execution_count": 9,
   "metadata": {},
   "outputs": [],
   "source": [
    "df.drop('photo', axis=1, inplace=True)"
   ]
  },
  {
   "cell_type": "code",
   "execution_count": 12,
   "metadata": {},
   "outputs": [],
   "source": [
    "df['photo'] = df.apply(lambda row: row['chef'] + '.jpg', axis=1)"
   ]
  },
  {
   "cell_type": "code",
   "execution_count": 18,
   "metadata": {},
   "outputs": [
    {
     "data": {
      "text/html": [
       "<div>\n",
       "<style>\n",
       "    .dataframe thead tr:only-child th {\n",
       "        text-align: right;\n",
       "    }\n",
       "\n",
       "    .dataframe thead th {\n",
       "        text-align: left;\n",
       "    }\n",
       "\n",
       "    .dataframe tbody tr th {\n",
       "        vertical-align: top;\n",
       "    }\n",
       "</style>\n",
       "<table border=\"1\" class=\"dataframe\">\n",
       "  <thead>\n",
       "    <tr style=\"text-align: right;\">\n",
       "      <th></th>\n",
       "      <th>chef</th>\n",
       "      <th>total</th>\n",
       "      <th>nom</th>\n",
       "      <th>valide</th>\n",
       "      <th>texte_intro</th>\n",
       "      <th>note</th>\n",
       "      <th>avis_nb</th>\n",
       "      <th>a_propos</th>\n",
       "      <th>zone_ville</th>\n",
       "      <th>zone_pays_code</th>\n",
       "      <th>langues</th>\n",
       "      <th>cuisines_types</th>\n",
       "      <th>questions</th>\n",
       "      <th>photo</th>\n",
       "    </tr>\n",
       "  </thead>\n",
       "  <tbody>\n",
       "    <tr>\n",
       "      <th>0</th>\n",
       "      <td>florent-gouverneur</td>\n",
       "      <td>14</td>\n",
       "      <td>Florent Gouverneur</td>\n",
       "      <td>OUI</td>\n",
       "      <td>Amoureux de la gastronomie</td>\n",
       "      <td>4.333333</td>\n",
       "      <td>9</td>\n",
       "      <td>Après une formation au lycée hôtelier de Metz,...</td>\n",
       "      <td>Lyon, France</td>\n",
       "      <td>FR</td>\n",
       "      <td>\\nFrançais\\n</td>\n",
       "      <td>['Bio', 'Cocktails', 'Chef étoilé', 'Brunch', ...</td>\n",
       "      <td>['Ma cuisine est fonction de la saisonnalité, ...</td>\n",
       "      <td>florent-gouverneur.jpg</td>\n",
       "    </tr>\n",
       "    <tr>\n",
       "      <th>1</th>\n",
       "      <td>arnaud-bulliot</td>\n",
       "      <td>16</td>\n",
       "      <td>Arnaud Bulliot</td>\n",
       "      <td>OUI</td>\n",
       "      <td>Les plaisirs de la table à partager !</td>\n",
       "      <td>4.207317</td>\n",
       "      <td>82</td>\n",
       "      <td>Issue d’une formation hôtelière en région pari...</td>\n",
       "      <td>Lyon, France</td>\n",
       "      <td>FR</td>\n",
       "      <td>\\nFrançais\\n</td>\n",
       "      <td>['Cocktails', 'Brunch', 'Gastronomique', 'Fami...</td>\n",
       "      <td>['Cuisine savoureuse, simple et raffinée', 'Po...</td>\n",
       "      <td>arnaud-bulliot.jpg</td>\n",
       "    </tr>\n",
       "  </tbody>\n",
       "</table>\n",
       "</div>"
      ],
      "text/plain": [
       "                 chef  total                 nom valide  \\\n",
       "0  florent-gouverneur     14  Florent Gouverneur    OUI   \n",
       "1      arnaud-bulliot     16      Arnaud Bulliot    OUI   \n",
       "\n",
       "                             texte_intro      note  avis_nb  \\\n",
       "0             Amoureux de la gastronomie  4.333333        9   \n",
       "1  Les plaisirs de la table à partager !  4.207317       82   \n",
       "\n",
       "                                            a_propos    zone_ville  \\\n",
       "0  Après une formation au lycée hôtelier de Metz,...  Lyon, France   \n",
       "1  Issue d’une formation hôtelière en région pari...  Lyon, France   \n",
       "\n",
       "  zone_pays_code       langues  \\\n",
       "0             FR  \\nFrançais\\n   \n",
       "1             FR  \\nFrançais\\n   \n",
       "\n",
       "                                      cuisines_types  \\\n",
       "0  ['Bio', 'Cocktails', 'Chef étoilé', 'Brunch', ...   \n",
       "1  ['Cocktails', 'Brunch', 'Gastronomique', 'Fami...   \n",
       "\n",
       "                                           questions                   photo  \n",
       "0  ['Ma cuisine est fonction de la saisonnalité, ...  florent-gouverneur.jpg  \n",
       "1  ['Cuisine savoureuse, simple et raffinée', 'Po...      arnaud-bulliot.jpg  "
      ]
     },
     "execution_count": 18,
     "metadata": {},
     "output_type": "execute_result"
    }
   ],
   "source": [
    "df.head(2)"
   ]
  },
  {
   "cell_type": "code",
   "execution_count": 19,
   "metadata": {},
   "outputs": [],
   "source": [
    "df = df.to_excel(OUTPUT_PATH + 'chefs_{}_details_clean.xlsx'.format(date_jour))"
   ]
  },
  {
   "cell_type": "code",
   "execution_count": null,
   "metadata": {
    "collapsed": true
   },
   "outputs": [],
   "source": []
  }
 ],
 "metadata": {
  "kernelspec": {
   "display_name": "Python 3",
   "language": "python",
   "name": "python3"
  },
  "language_info": {
   "codemirror_mode": {
    "name": "ipython",
    "version": 3
   },
   "file_extension": ".py",
   "mimetype": "text/x-python",
   "name": "python",
   "nbconvert_exporter": "python",
   "pygments_lexer": "ipython3",
   "version": "3.6.2"
  }
 },
 "nbformat": 4,
 "nbformat_minor": 2
}
