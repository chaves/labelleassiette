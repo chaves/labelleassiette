{
 "cells": [
  {
   "cell_type": "code",
   "execution_count": null,
   "metadata": {
    "collapsed": true
   },
   "outputs": [],
   "source": [
    "from lxml import html\n",
    "import lxml\n",
    "import time\n",
    "import requests\n",
    "import pandas as pd\n",
    "import sqlite3"
   ]
  },
  {
   "cell_type": "code",
   "execution_count": null,
   "metadata": {
    "collapsed": true
   },
   "outputs": [],
   "source": [
    "date_jour = '2017-12-31'\n",
    "OUTPUT_PATH = '../_outputs/'\n",
    "database_file = OUTPUT_PATH + 'chefs_{}.db'.format(date_jour)\n",
    "conn = sqlite3.connect(database_file)"
   ]
  },
  {
   "cell_type": "code",
   "execution_count": null,
   "metadata": {},
   "outputs": [],
   "source": [
    "df_source = pd.read_sql_query(\"select * from index_chefs;\", conn)\n",
    "df_source.head()"
   ]
  },
  {
   "cell_type": "code",
   "execution_count": null,
   "metadata": {
    "collapsed": true
   },
   "outputs": [],
   "source": [
    "def getChefPage(chef_id):\n",
    "    url = 'https://labelleassiette.fr/' + chef_id\n",
    "    print(\"Page : \" + url)\n",
    "    response = requests.get(url)\n",
    "    content_source = response.text\n",
    "    return html.document_fromstring(content_source)"
   ]
  },
  {
   "cell_type": "code",
   "execution_count": null,
   "metadata": {
    "collapsed": true
   },
   "outputs": [],
   "source": [
    "def get_row(doc, chef, total):\n",
    "    nom = doc.xpath('//h1[@itemprop=\"name\"]/text()')[0]\n",
    "    photo = doc.xpath('//img[@class=\"chef-picture\"]/@src')[0]\n",
    "    if doc.xpath('//div[contains(@class,\"chef-badge\")]/span[@class=\"top\"]/text()'):\n",
    "        valide = 'OUI'\n",
    "    else:\n",
    "        valide = 'NON'\n",
    "    texte_intro = doc.xpath('//h3[@class=\"chef-tagline\"]/text()')[0]\n",
    "    note = doc.xpath('//h4[contains(@itemprop,\"ratingValue\")]/@content')[0]\n",
    "    avis_nb = doc.xpath('//meta[contains(@itemprop,\"ratingCount\")]/@content')[0]\n",
    "    a_propos = doc.xpath('//div[contains(@class,\"chef-card\")]//span[@class=\"full\"]/text()')[0]\n",
    "    zone_ville = doc.xpath('//span[contains(@itemprop,\"addressLocality\")]/text()')[0]\n",
    "    zone_pays_code = doc.xpath('//meta[contains(@itemprop,\"addressCountry\")]/@content')[0]\n",
    "    if doc.xpath('//div[contains(@class,\"chef-card\")]/p[2]/text()'):\n",
    "        langues = doc.xpath('//div[contains(@class,\"chef-card\")]/p[2]/text()')[0]\n",
    "    else:\n",
    "        langues = 'NA'\n",
    "    cuisines_types = doc.xpath('//span[@itemprop=\"servesCuisine\"]/text()') # list\n",
    "    questions = doc.xpath('//div[@class=\"chef-question\"]/p/text()')\n",
    "    row = [chef, total, nom, photo, valide, texte_intro, note, avis_nb, \n",
    "           a_propos, zone_ville, zone_pays_code, langues, cuisines_types, questions]\n",
    "    return row"
   ]
  },
  {
   "cell_type": "code",
   "execution_count": null,
   "metadata": {
    "collapsed": true
   },
   "outputs": [],
   "source": [
    "columns = ['chef', 'total', 'nom', 'photo', 'valide', 'texte_intro', 'note', 'avis_nb', \n",
    "           'a_propos', 'zone_ville', 'zone_pays_code','langues', 'cuisines_types', 'questions']\n",
    "df_output = pd.DataFrame(columns=columns)"
   ]
  },
  {
   "cell_type": "code",
   "execution_count": null,
   "metadata": {},
   "outputs": [],
   "source": [
    "for index, row in df_source.iterrows():\n",
    "    doc = getChefPage(row['chef'])\n",
    "    df_output.loc[index] = get_row(doc, row['chef'], row['total'])"
   ]
  },
  {
   "cell_type": "code",
   "execution_count": null,
   "metadata": {},
   "outputs": [],
   "source": [
    "df_output.head()"
   ]
  },
  {
   "cell_type": "code",
   "execution_count": null,
   "metadata": {},
   "outputs": [],
   "source": [
    "df_output.info()"
   ]
  },
  {
   "cell_type": "code",
   "execution_count": null,
   "metadata": {
    "collapsed": true
   },
   "outputs": [],
   "source": [
    "# database_file = OUTPUT_PATH + 'chefs_{}.db'.format(date_jour)\n",
    "# table = 'chefs'\n",
    "# conn = sqlite3.connect(database_file)\n",
    "# df_output.to_sql(table, conn, if_exists=\"replace\")"
   ]
  },
  {
   "cell_type": "code",
   "execution_count": null,
   "metadata": {
    "collapsed": true
   },
   "outputs": [],
   "source": [
    "df_output.to_excel(OUTPUT_PATH + 'chefs_{}_details.xlsx'.format(date_jour), index=False, header=True)"
   ]
  },
  {
   "cell_type": "code",
   "execution_count": null,
   "metadata": {
    "collapsed": true
   },
   "outputs": [],
   "source": []
  }
 ],
 "metadata": {
  "kernelspec": {
   "display_name": "Python 3",
   "language": "python",
   "name": "python3"
  },
  "language_info": {
   "codemirror_mode": {
    "name": "ipython",
    "version": 3
   },
   "file_extension": ".py",
   "mimetype": "text/x-python",
   "name": "python",
   "nbconvert_exporter": "python",
   "pygments_lexer": "ipython3",
   "version": "3.6.2"
  }
 },
 "nbformat": 4,
 "nbformat_minor": 2
}
